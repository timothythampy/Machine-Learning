{
  "nbformat": 4,
  "nbformat_minor": 0,
  "metadata": {
    "colab": {
      "name": "ML_Experiment_6_1.ipynb",
      "provenance": [],
      "authorship_tag": "ABX9TyNaNCVFJHCb2waXwvh66+fd",
      "include_colab_link": true
    },
    "kernelspec": {
      "name": "python3",
      "display_name": "Python 3"
    },
    "accelerator": "GPU"
  },
  "cells": [
    {
      "cell_type": "markdown",
      "metadata": {
        "id": "view-in-github",
        "colab_type": "text"
      },
      "source": [
        "<a href=\"https://colab.research.google.com/github/timothythampy/Machine-Learning/blob/master/Experiment_6/ML_Experiment_6_1.ipynb\" target=\"_parent\"><img src=\"https://colab.research.google.com/assets/colab-badge.svg\" alt=\"Open In Colab\"/></a>"
      ]
    },
    {
      "cell_type": "code",
      "metadata": {
        "id": "b4rNW1kFwJGs",
        "colab_type": "code",
        "colab": {
          "base_uri": "https://localhost:8080/",
          "height": 71
        },
        "outputId": "ee31e01e-c2e7-4016-8f94-1637b39f649c"
      },
      "source": [
        "\n",
        "import numpy as np\n",
        "import pandas as pd\n",
        "\n",
        "import matplotlib.pyplot as plt\n",
        "import seaborn as sns\n",
        "\n",
        "from sklearn.model_selection import train_test_split, cross_val_score\n",
        "from sklearn.preprocessing import StandardScaler\n",
        "\n",
        "import warnings\n",
        "warnings.filterwarnings('ignore')\n",
        "\n",
        "np.random.seed(27)"
      ],
      "execution_count": 6,
      "outputs": [
        {
          "output_type": "stream",
          "text": [
            "/usr/local/lib/python3.6/dist-packages/statsmodels/tools/_testing.py:19: FutureWarning: pandas.util.testing is deprecated. Use the functions in the public API at pandas.testing instead.\n",
            "  import pandas.util.testing as tm\n"
          ],
          "name": "stderr"
        }
      ]
    },
    {
      "cell_type": "code",
      "metadata": {
        "id": "PKv5ArN5wS6N",
        "colab_type": "code",
        "colab": {
          "base_uri": "https://localhost:8080/",
          "height": 578
        },
        "outputId": "f35fc541-6c35-405e-93fc-7085d5ee7573"
      },
      "source": [
        "!wget -O 2011gcn.csv https://raw.githubusercontent.com/pranavn91/blockchain/master/2011gcn.csv\n",
        "!wget -O tx2011partvertices_new.csv https://raw.githubusercontent.com/pranavn91/blockchain/master/tx2011partvertices_new.csv\n",
        "!wget -O tx2011partvertices.csv https://raw.githubusercontent.com/pranavn91/blockchain/master/tx2011partvertices.csv\n",
        " \n",
        "train1 = pd.read_csv('2011gcn.csv')\n",
        "train2 = pd.read_csv('tx2011partvertices_new.csv')\n",
        "train3 = pd.read_csv('tx2011partvertices.csv')"
      ],
      "execution_count": 7,
      "outputs": [
        {
          "output_type": "stream",
          "text": [
            "--2020-08-30 19:07:27--  https://raw.githubusercontent.com/pranavn91/blockchain/master/2011gcn.csv\n",
            "Resolving raw.githubusercontent.com (raw.githubusercontent.com)... 151.101.0.133, 151.101.64.133, 151.101.128.133, ...\n",
            "Connecting to raw.githubusercontent.com (raw.githubusercontent.com)|151.101.0.133|:443... connected.\n",
            "HTTP request sent, awaiting response... 200 OK\n",
            "Length: 12563086 (12M) [text/plain]\n",
            "Saving to: ‘2011gcn.csv’\n",
            "\n",
            "2011gcn.csv         100%[===================>]  11.98M  64.8MB/s    in 0.2s    \n",
            "\n",
            "2020-08-30 19:07:28 (64.8 MB/s) - ‘2011gcn.csv’ saved [12563086/12563086]\n",
            "\n",
            "--2020-08-30 19:07:28--  https://raw.githubusercontent.com/pranavn91/blockchain/master/tx2011partvertices_new.csv\n",
            "Resolving raw.githubusercontent.com (raw.githubusercontent.com)... 151.101.0.133, 151.101.64.133, 151.101.128.133, ...\n",
            "Connecting to raw.githubusercontent.com (raw.githubusercontent.com)|151.101.0.133|:443... connected.\n",
            "HTTP request sent, awaiting response... 200 OK\n",
            "Length: 12501458 (12M) [text/plain]\n",
            "Saving to: ‘tx2011partvertices_new.csv’\n",
            "\n",
            "tx2011partvertices_ 100%[===================>]  11.92M  65.7MB/s    in 0.2s    \n",
            "\n",
            "2020-08-30 19:07:29 (65.7 MB/s) - ‘tx2011partvertices_new.csv’ saved [12501458/12501458]\n",
            "\n",
            "--2020-08-30 19:07:29--  https://raw.githubusercontent.com/pranavn91/blockchain/master/tx2011partvertices.csv\n",
            "Resolving raw.githubusercontent.com (raw.githubusercontent.com)... 151.101.0.133, 151.101.64.133, 151.101.128.133, ...\n",
            "Connecting to raw.githubusercontent.com (raw.githubusercontent.com)|151.101.0.133|:443... connected.\n",
            "HTTP request sent, awaiting response... 200 OK\n",
            "Length: 1934257 (1.8M) [text/plain]\n",
            "Saving to: ‘tx2011partvertices.csv’\n",
            "\n",
            "tx2011partvertices. 100%[===================>]   1.84M  --.-KB/s    in 0.04s   \n",
            "\n",
            "2020-08-30 19:07:30 (42.9 MB/s) - ‘tx2011partvertices.csv’ saved [1934257/1934257]\n",
            "\n"
          ],
          "name": "stdout"
        }
      ]
    },
    {
      "cell_type": "code",
      "metadata": {
        "id": "GbtnfyLSwbtM",
        "colab_type": "code",
        "colab": {
          "base_uri": "https://localhost:8080/",
          "height": 68
        },
        "outputId": "ac8bbdc4-5863-46e1-99eb-373151820a94"
      },
      "source": [
        "print('Train 1 Shape: ', train1.shape)\n",
        "print('Train 2 Shape: ', train2.shape)\n",
        "print('Train 3 Shape: ', train3.shape)"
      ],
      "execution_count": 8,
      "outputs": [
        {
          "output_type": "stream",
          "text": [
            "Train 1 Shape:  (96498, 17)\n",
            "Train 2 Shape:  (96498, 20)\n",
            "Train 3 Shape:  (96498, 2)\n"
          ],
          "name": "stdout"
        }
      ]
    },
    {
      "cell_type": "code",
      "metadata": {
        "id": "zN45LRZFwdx0",
        "colab_type": "code",
        "colab": {
          "base_uri": "https://localhost:8080/",
          "height": 204
        },
        "outputId": "9535ee83-8d5d-4bb1-e5a9-47b1794c0eee"
      },
      "source": [
        "\n",
        "train1.rename(columns={'Unnamed: 0':'index'}, inplace=True)\n",
        "train1['index'] = train1['index'] + 1\n",
        "train1.head()"
      ],
      "execution_count": 9,
      "outputs": [
        {
          "output_type": "execute_result",
          "data": {
            "text/html": [
              "<div>\n",
              "<style scoped>\n",
              "    .dataframe tbody tr th:only-of-type {\n",
              "        vertical-align: middle;\n",
              "    }\n",
              "\n",
              "    .dataframe tbody tr th {\n",
              "        vertical-align: top;\n",
              "    }\n",
              "\n",
              "    .dataframe thead th {\n",
              "        text-align: right;\n",
              "    }\n",
              "</style>\n",
              "<table border=\"1\" class=\"dataframe\">\n",
              "  <thead>\n",
              "    <tr style=\"text-align: right;\">\n",
              "      <th></th>\n",
              "      <th>index</th>\n",
              "      <th>0</th>\n",
              "      <th>1</th>\n",
              "      <th>2</th>\n",
              "      <th>3</th>\n",
              "      <th>4</th>\n",
              "      <th>5</th>\n",
              "      <th>6</th>\n",
              "      <th>7</th>\n",
              "      <th>8</th>\n",
              "      <th>9</th>\n",
              "      <th>10</th>\n",
              "      <th>11</th>\n",
              "      <th>12</th>\n",
              "      <th>13</th>\n",
              "      <th>14</th>\n",
              "      <th>15</th>\n",
              "    </tr>\n",
              "  </thead>\n",
              "  <tbody>\n",
              "    <tr>\n",
              "      <th>0</th>\n",
              "      <td>1</td>\n",
              "      <td>0.0</td>\n",
              "      <td>4.811244e+07</td>\n",
              "      <td>0.0</td>\n",
              "      <td>0.0</td>\n",
              "      <td>5.298934e+07</td>\n",
              "      <td>0.0</td>\n",
              "      <td>5.215435e+07</td>\n",
              "      <td>0.0</td>\n",
              "      <td>0.0</td>\n",
              "      <td>4.293262e+05</td>\n",
              "      <td>3.994267e+07</td>\n",
              "      <td>6.251989e+07</td>\n",
              "      <td>0.0</td>\n",
              "      <td>0.0</td>\n",
              "      <td>2.670458e+07</td>\n",
              "      <td>8.313858e+07</td>\n",
              "    </tr>\n",
              "    <tr>\n",
              "      <th>1</th>\n",
              "      <td>2</td>\n",
              "      <td>0.0</td>\n",
              "      <td>3.477977e+05</td>\n",
              "      <td>0.0</td>\n",
              "      <td>0.0</td>\n",
              "      <td>3.777575e+05</td>\n",
              "      <td>0.0</td>\n",
              "      <td>3.757520e+05</td>\n",
              "      <td>0.0</td>\n",
              "      <td>0.0</td>\n",
              "      <td>6.889133e+03</td>\n",
              "      <td>3.001618e+05</td>\n",
              "      <td>4.527358e+05</td>\n",
              "      <td>0.0</td>\n",
              "      <td>0.0</td>\n",
              "      <td>1.915057e+05</td>\n",
              "      <td>6.009039e+05</td>\n",
              "    </tr>\n",
              "    <tr>\n",
              "      <th>2</th>\n",
              "      <td>3</td>\n",
              "      <td>0.0</td>\n",
              "      <td>6.455196e+07</td>\n",
              "      <td>0.0</td>\n",
              "      <td>0.0</td>\n",
              "      <td>7.110790e+07</td>\n",
              "      <td>0.0</td>\n",
              "      <td>6.997804e+07</td>\n",
              "      <td>0.0</td>\n",
              "      <td>0.0</td>\n",
              "      <td>5.670157e+05</td>\n",
              "      <td>5.356332e+07</td>\n",
              "      <td>8.388026e+07</td>\n",
              "      <td>0.0</td>\n",
              "      <td>0.0</td>\n",
              "      <td>3.583296e+07</td>\n",
              "      <td>1.115463e+08</td>\n",
              "    </tr>\n",
              "    <tr>\n",
              "      <th>3</th>\n",
              "      <td>4</td>\n",
              "      <td>0.0</td>\n",
              "      <td>2.009876e+08</td>\n",
              "      <td>0.0</td>\n",
              "      <td>0.0</td>\n",
              "      <td>2.214679e+08</td>\n",
              "      <td>0.0</td>\n",
              "      <td>2.174101e+08</td>\n",
              "      <td>0.0</td>\n",
              "      <td>0.0</td>\n",
              "      <td>1.342720e+06</td>\n",
              "      <td>1.665389e+08</td>\n",
              "      <td>2.614420e+08</td>\n",
              "      <td>0.0</td>\n",
              "      <td>0.0</td>\n",
              "      <td>1.116514e+08</td>\n",
              "      <td>3.472892e+08</td>\n",
              "    </tr>\n",
              "    <tr>\n",
              "      <th>4</th>\n",
              "      <td>5</td>\n",
              "      <td>0.0</td>\n",
              "      <td>2.384675e+05</td>\n",
              "      <td>0.0</td>\n",
              "      <td>0.0</td>\n",
              "      <td>2.597246e+05</td>\n",
              "      <td>0.0</td>\n",
              "      <td>2.577884e+05</td>\n",
              "      <td>0.0</td>\n",
              "      <td>0.0</td>\n",
              "      <td>4.202993e+03</td>\n",
              "      <td>2.042845e+05</td>\n",
              "      <td>3.103489e+05</td>\n",
              "      <td>0.0</td>\n",
              "      <td>0.0</td>\n",
              "      <td>1.315073e+05</td>\n",
              "      <td>4.120424e+05</td>\n",
              "    </tr>\n",
              "  </tbody>\n",
              "</table>\n",
              "</div>"
            ],
            "text/plain": [
              "   index    0             1    2  ...   12   13            14            15\n",
              "0      1  0.0  4.811244e+07  0.0  ...  0.0  0.0  2.670458e+07  8.313858e+07\n",
              "1      2  0.0  3.477977e+05  0.0  ...  0.0  0.0  1.915057e+05  6.009039e+05\n",
              "2      3  0.0  6.455196e+07  0.0  ...  0.0  0.0  3.583296e+07  1.115463e+08\n",
              "3      4  0.0  2.009876e+08  0.0  ...  0.0  0.0  1.116514e+08  3.472892e+08\n",
              "4      5  0.0  2.384675e+05  0.0  ...  0.0  0.0  1.315073e+05  4.120424e+05\n",
              "\n",
              "[5 rows x 17 columns]"
            ]
          },
          "metadata": {
            "tags": []
          },
          "execution_count": 9
        }
      ]
    },
    {
      "cell_type": "code",
      "metadata": {
        "id": "HT7vTrN0wfWi",
        "colab_type": "code",
        "colab": {
          "base_uri": "https://localhost:8080/",
          "height": 224
        },
        "outputId": "d0564479-5271-408a-e955-1e2b25674edb"
      },
      "source": [
        "train2.rename(columns={'Unnamed: 0':'index'}, inplace=True)\n",
        "train2.head()"
      ],
      "execution_count": 10,
      "outputs": [
        {
          "output_type": "execute_result",
          "data": {
            "text/html": [
              "<div>\n",
              "<style scoped>\n",
              "    .dataframe tbody tr th:only-of-type {\n",
              "        vertical-align: middle;\n",
              "    }\n",
              "\n",
              "    .dataframe tbody tr th {\n",
              "        vertical-align: top;\n",
              "    }\n",
              "\n",
              "    .dataframe thead th {\n",
              "        text-align: right;\n",
              "    }\n",
              "</style>\n",
              "<table border=\"1\" class=\"dataframe\">\n",
              "  <thead>\n",
              "    <tr style=\"text-align: right;\">\n",
              "      <th></th>\n",
              "      <th>index</th>\n",
              "      <th>txsize</th>\n",
              "      <th>txvirtualsize</th>\n",
              "      <th>txinputs_count</th>\n",
              "      <th>txoutputs_count</th>\n",
              "      <th>txinput_val</th>\n",
              "      <th>txoutput_val</th>\n",
              "      <th>txfee</th>\n",
              "      <th>Min_received</th>\n",
              "      <th>Max_received</th>\n",
              "      <th>Avg_received</th>\n",
              "      <th>Total_received</th>\n",
              "      <th>Stdev_received</th>\n",
              "      <th>Var_received</th>\n",
              "      <th>Min_sent</th>\n",
              "      <th>Max_sent</th>\n",
              "      <th>Avg_sent</th>\n",
              "      <th>Total_sent</th>\n",
              "      <th>Stdev_sent</th>\n",
              "      <th>Var_sent</th>\n",
              "    </tr>\n",
              "  </thead>\n",
              "  <tbody>\n",
              "    <tr>\n",
              "      <th>0</th>\n",
              "      <td>1</td>\n",
              "      <td>7369</td>\n",
              "      <td>7369</td>\n",
              "      <td>5</td>\n",
              "      <td>190</td>\n",
              "      <td>215000000.0</td>\n",
              "      <td>214600000.0</td>\n",
              "      <td>400000</td>\n",
              "      <td>0.0005</td>\n",
              "      <td>1.0000</td>\n",
              "      <td>0.011295</td>\n",
              "      <td>2.1460</td>\n",
              "      <td>0.081163</td>\n",
              "      <td>0.006587</td>\n",
              "      <td>0.0005</td>\n",
              "      <td>1.6700</td>\n",
              "      <td>0.4300</td>\n",
              "      <td>2.1500</td>\n",
              "      <td>0.703445</td>\n",
              "      <td>0.494835</td>\n",
              "    </tr>\n",
              "    <tr>\n",
              "      <th>1</th>\n",
              "      <td>2</td>\n",
              "      <td>293</td>\n",
              "      <td>293</td>\n",
              "      <td>1</td>\n",
              "      <td>3</td>\n",
              "      <td>4400000.0</td>\n",
              "      <td>4350000.0</td>\n",
              "      <td>50000</td>\n",
              "      <td>0.0010</td>\n",
              "      <td>0.0415</td>\n",
              "      <td>0.014500</td>\n",
              "      <td>0.0435</td>\n",
              "      <td>0.023383</td>\n",
              "      <td>0.000547</td>\n",
              "      <td>0.0440</td>\n",
              "      <td>0.0440</td>\n",
              "      <td>0.0440</td>\n",
              "      <td>0.0440</td>\n",
              "      <td>0.000000</td>\n",
              "      <td>0.000000</td>\n",
              "    </tr>\n",
              "    <tr>\n",
              "      <th>2</th>\n",
              "      <td>3</td>\n",
              "      <td>11139</td>\n",
              "      <td>11139</td>\n",
              "      <td>1</td>\n",
              "      <td>322</td>\n",
              "      <td>125000000.0</td>\n",
              "      <td>124400000.0</td>\n",
              "      <td>600000</td>\n",
              "      <td>0.0010</td>\n",
              "      <td>0.4460</td>\n",
              "      <td>0.003863</td>\n",
              "      <td>1.2440</td>\n",
              "      <td>0.024941</td>\n",
              "      <td>0.000622</td>\n",
              "      <td>1.2500</td>\n",
              "      <td>1.2500</td>\n",
              "      <td>1.2500</td>\n",
              "      <td>1.2500</td>\n",
              "      <td>0.000000</td>\n",
              "      <td>0.000000</td>\n",
              "    </tr>\n",
              "    <tr>\n",
              "      <th>3</th>\n",
              "      <td>4</td>\n",
              "      <td>495</td>\n",
              "      <td>495</td>\n",
              "      <td>1</td>\n",
              "      <td>9</td>\n",
              "      <td>27450000.0</td>\n",
              "      <td>27400000.0</td>\n",
              "      <td>50000</td>\n",
              "      <td>0.0010</td>\n",
              "      <td>0.2660</td>\n",
              "      <td>0.030444</td>\n",
              "      <td>0.2740</td>\n",
              "      <td>0.088333</td>\n",
              "      <td>0.007803</td>\n",
              "      <td>0.2745</td>\n",
              "      <td>0.2745</td>\n",
              "      <td>0.2745</td>\n",
              "      <td>0.2745</td>\n",
              "      <td>0.000000</td>\n",
              "      <td>0.000000</td>\n",
              "    </tr>\n",
              "    <tr>\n",
              "      <th>4</th>\n",
              "      <td>5</td>\n",
              "      <td>462</td>\n",
              "      <td>462</td>\n",
              "      <td>1</td>\n",
              "      <td>8</td>\n",
              "      <td>3000000.0</td>\n",
              "      <td>2950000.0</td>\n",
              "      <td>50000</td>\n",
              "      <td>0.0010</td>\n",
              "      <td>0.0225</td>\n",
              "      <td>0.003687</td>\n",
              "      <td>0.0295</td>\n",
              "      <td>0.007601</td>\n",
              "      <td>0.000058</td>\n",
              "      <td>0.0300</td>\n",
              "      <td>0.0300</td>\n",
              "      <td>0.0300</td>\n",
              "      <td>0.0300</td>\n",
              "      <td>0.000000</td>\n",
              "      <td>0.000000</td>\n",
              "    </tr>\n",
              "  </tbody>\n",
              "</table>\n",
              "</div>"
            ],
            "text/plain": [
              "   index  txsize  txvirtualsize  ...  Total_sent  Stdev_sent  Var_sent\n",
              "0      1    7369           7369  ...      2.1500    0.703445  0.494835\n",
              "1      2     293            293  ...      0.0440    0.000000  0.000000\n",
              "2      3   11139          11139  ...      1.2500    0.000000  0.000000\n",
              "3      4     495            495  ...      0.2745    0.000000  0.000000\n",
              "4      5     462            462  ...      0.0300    0.000000  0.000000\n",
              "\n",
              "[5 rows x 20 columns]"
            ]
          },
          "metadata": {
            "tags": []
          },
          "execution_count": 10
        }
      ]
    },
    {
      "cell_type": "code",
      "metadata": {
        "id": "ooj74DuvwkWU",
        "colab_type": "code",
        "colab": {
          "base_uri": "https://localhost:8080/",
          "height": 204
        },
        "outputId": "c632ebd0-05ca-4480-80a3-395758555cbd"
      },
      "source": [
        "train3.rename(columns={'Unnamed: 0':'index'}, inplace=True)\n",
        "train3.head()"
      ],
      "execution_count": 11,
      "outputs": [
        {
          "output_type": "execute_result",
          "data": {
            "text/html": [
              "<div>\n",
              "<style scoped>\n",
              "    .dataframe tbody tr th:only-of-type {\n",
              "        vertical-align: middle;\n",
              "    }\n",
              "\n",
              "    .dataframe tbody tr th {\n",
              "        vertical-align: top;\n",
              "    }\n",
              "\n",
              "    .dataframe thead th {\n",
              "        text-align: right;\n",
              "    }\n",
              "</style>\n",
              "<table border=\"1\" class=\"dataframe\">\n",
              "  <thead>\n",
              "    <tr style=\"text-align: right;\">\n",
              "      <th></th>\n",
              "      <th>index</th>\n",
              "      <th>label</th>\n",
              "    </tr>\n",
              "  </thead>\n",
              "  <tbody>\n",
              "    <tr>\n",
              "      <th>0</th>\n",
              "      <td>1</td>\n",
              "      <td>unclassified</td>\n",
              "    </tr>\n",
              "    <tr>\n",
              "      <th>1</th>\n",
              "      <td>2</td>\n",
              "      <td>donations</td>\n",
              "    </tr>\n",
              "    <tr>\n",
              "      <th>2</th>\n",
              "      <td>3</td>\n",
              "      <td>unclassified</td>\n",
              "    </tr>\n",
              "    <tr>\n",
              "      <th>3</th>\n",
              "      <td>4</td>\n",
              "      <td>donations</td>\n",
              "    </tr>\n",
              "    <tr>\n",
              "      <th>4</th>\n",
              "      <td>5</td>\n",
              "      <td>donations</td>\n",
              "    </tr>\n",
              "  </tbody>\n",
              "</table>\n",
              "</div>"
            ],
            "text/plain": [
              "   index         label\n",
              "0      1  unclassified\n",
              "1      2     donations\n",
              "2      3  unclassified\n",
              "3      4     donations\n",
              "4      5     donations"
            ]
          },
          "metadata": {
            "tags": []
          },
          "execution_count": 11
        }
      ]
    },
    {
      "cell_type": "code",
      "metadata": {
        "id": "N7En_r6twl05",
        "colab_type": "code",
        "colab": {
          "base_uri": "https://localhost:8080/",
          "height": 425
        },
        "outputId": "28f9076f-8c81-45cc-ff8e-e7fbc58c6dec"
      },
      "source": [
        "train1.info()"
      ],
      "execution_count": 12,
      "outputs": [
        {
          "output_type": "stream",
          "text": [
            "<class 'pandas.core.frame.DataFrame'>\n",
            "RangeIndex: 96498 entries, 0 to 96497\n",
            "Data columns (total 17 columns):\n",
            " #   Column  Non-Null Count  Dtype  \n",
            "---  ------  --------------  -----  \n",
            " 0   index   96498 non-null  int64  \n",
            " 1   0       96498 non-null  float64\n",
            " 2   1       96498 non-null  float64\n",
            " 3   2       96498 non-null  float64\n",
            " 4   3       96498 non-null  float64\n",
            " 5   4       96498 non-null  float64\n",
            " 6   5       96498 non-null  float64\n",
            " 7   6       96498 non-null  float64\n",
            " 8   7       96498 non-null  float64\n",
            " 9   8       96498 non-null  float64\n",
            " 10  9       96498 non-null  float64\n",
            " 11  10      96498 non-null  float64\n",
            " 12  11      96498 non-null  float64\n",
            " 13  12      96498 non-null  float64\n",
            " 14  13      96498 non-null  float64\n",
            " 15  14      96498 non-null  float64\n",
            " 16  15      96498 non-null  float64\n",
            "dtypes: float64(16), int64(1)\n",
            "memory usage: 12.5 MB\n"
          ],
          "name": "stdout"
        }
      ]
    },
    {
      "cell_type": "code",
      "metadata": {
        "id": "kqr3nFnqwnNC",
        "colab_type": "code",
        "colab": {
          "base_uri": "https://localhost:8080/",
          "height": 323
        },
        "outputId": "d3e7baf9-3806-4e06-b4c1-a36d9fb1fe0c"
      },
      "source": [
        "train1.nunique()"
      ],
      "execution_count": 13,
      "outputs": [
        {
          "output_type": "execute_result",
          "data": {
            "text/plain": [
              "index    96498\n",
              "0         1346\n",
              "1        91076\n",
              "2            1\n",
              "3            6\n",
              "4        91097\n",
              "5          544\n",
              "6        91130\n",
              "7            1\n",
              "8          118\n",
              "9        88871\n",
              "10       91233\n",
              "11       91135\n",
              "12           1\n",
              "13           1\n",
              "14       90486\n",
              "15       91001\n",
              "dtype: int64"
            ]
          },
          "metadata": {
            "tags": []
          },
          "execution_count": 13
        }
      ]
    },
    {
      "cell_type": "code",
      "metadata": {
        "id": "1__00jlrwolq",
        "colab_type": "code",
        "colab": {
          "base_uri": "https://localhost:8080/",
          "height": 476
        },
        "outputId": "36823453-a6fe-4582-8ff5-6a1aa1861099"
      },
      "source": [
        "train2.info()"
      ],
      "execution_count": 14,
      "outputs": [
        {
          "output_type": "stream",
          "text": [
            "<class 'pandas.core.frame.DataFrame'>\n",
            "RangeIndex: 96498 entries, 0 to 96497\n",
            "Data columns (total 20 columns):\n",
            " #   Column           Non-Null Count  Dtype  \n",
            "---  ------           --------------  -----  \n",
            " 0   index            96498 non-null  int64  \n",
            " 1   txsize           96498 non-null  int64  \n",
            " 2   txvirtualsize    96498 non-null  int64  \n",
            " 3   txinputs_count   96498 non-null  int64  \n",
            " 4   txoutputs_count  96498 non-null  int64  \n",
            " 5   txinput_val      96498 non-null  float64\n",
            " 6   txoutput_val     96498 non-null  float64\n",
            " 7   txfee            96498 non-null  int64  \n",
            " 8   Min_received     96498 non-null  float64\n",
            " 9   Max_received     96498 non-null  float64\n",
            " 10  Avg_received     96498 non-null  float64\n",
            " 11  Total_received   96498 non-null  float64\n",
            " 12  Stdev_received   96498 non-null  float64\n",
            " 13  Var_received     96498 non-null  float64\n",
            " 14  Min_sent         96498 non-null  float64\n",
            " 15  Max_sent         96498 non-null  float64\n",
            " 16  Avg_sent         96498 non-null  float64\n",
            " 17  Total_sent       96498 non-null  float64\n",
            " 18  Stdev_sent       96498 non-null  float64\n",
            " 19  Var_sent         96498 non-null  float64\n",
            "dtypes: float64(14), int64(6)\n",
            "memory usage: 14.7 MB\n"
          ],
          "name": "stdout"
        }
      ]
    },
    {
      "cell_type": "code",
      "metadata": {
        "id": "YeEBK_7rwqNO",
        "colab_type": "code",
        "colab": {
          "base_uri": "https://localhost:8080/",
          "height": 170
        },
        "outputId": "51913c23-8053-437d-b15f-3ba424e0be07"
      },
      "source": [
        "train3.info()"
      ],
      "execution_count": 15,
      "outputs": [
        {
          "output_type": "stream",
          "text": [
            "<class 'pandas.core.frame.DataFrame'>\n",
            "RangeIndex: 96498 entries, 0 to 96497\n",
            "Data columns (total 2 columns):\n",
            " #   Column  Non-Null Count  Dtype \n",
            "---  ------  --------------  ----- \n",
            " 0   index   96498 non-null  int64 \n",
            " 1   label   96498 non-null  object\n",
            "dtypes: int64(1), object(1)\n",
            "memory usage: 1.5+ MB\n"
          ],
          "name": "stdout"
        }
      ]
    },
    {
      "cell_type": "code",
      "metadata": {
        "id": "v6-TOy5Ewrnm",
        "colab_type": "code",
        "colab": {}
      },
      "source": [
        "results = pd.merge(train3, train1, on='index', how='inner')\n",
        "\n",
        "# split data into X and y\n",
        "X = results.iloc[:,2:18]\n",
        "Y1 = results['label']"
      ],
      "execution_count": 16,
      "outputs": []
    },
    {
      "cell_type": "code",
      "metadata": {
        "id": "Gdhkp_I9wtC6",
        "colab_type": "code",
        "colab": {
          "base_uri": "https://localhost:8080/",
          "height": 419
        },
        "outputId": "16fa73ed-3ede-44bc-bbaf-f6912528beb4"
      },
      "source": [
        "#from sklearn import preprocessing\n",
        "#le = preprocessing.LabelEncoder()\n",
        "#le.fit(results['label'].unique())\n",
        "Y_dummies = pd.get_dummies(Y1)\n",
        "#Y_tranform = le.transform(Y)\n",
        "#Y = pd.DataFrame(Y_transform)\n",
        "Y = Y_dummies\n",
        "Y"
      ],
      "execution_count": 17,
      "outputs": [
        {
          "output_type": "execute_result",
          "data": {
            "text/html": [
              "<div>\n",
              "<style scoped>\n",
              "    .dataframe tbody tr th:only-of-type {\n",
              "        vertical-align: middle;\n",
              "    }\n",
              "\n",
              "    .dataframe tbody tr th {\n",
              "        vertical-align: top;\n",
              "    }\n",
              "\n",
              "    .dataframe thead th {\n",
              "        text-align: right;\n",
              "    }\n",
              "</style>\n",
              "<table border=\"1\" class=\"dataframe\">\n",
              "  <thead>\n",
              "    <tr style=\"text-align: right;\">\n",
              "      <th></th>\n",
              "      <th>donations</th>\n",
              "      <th>exchange</th>\n",
              "      <th>mixer</th>\n",
              "      <th>paymentgateway</th>\n",
              "      <th>unclassified</th>\n",
              "      <th>wallets</th>\n",
              "    </tr>\n",
              "  </thead>\n",
              "  <tbody>\n",
              "    <tr>\n",
              "      <th>0</th>\n",
              "      <td>0</td>\n",
              "      <td>0</td>\n",
              "      <td>0</td>\n",
              "      <td>0</td>\n",
              "      <td>1</td>\n",
              "      <td>0</td>\n",
              "    </tr>\n",
              "    <tr>\n",
              "      <th>1</th>\n",
              "      <td>1</td>\n",
              "      <td>0</td>\n",
              "      <td>0</td>\n",
              "      <td>0</td>\n",
              "      <td>0</td>\n",
              "      <td>0</td>\n",
              "    </tr>\n",
              "    <tr>\n",
              "      <th>2</th>\n",
              "      <td>0</td>\n",
              "      <td>0</td>\n",
              "      <td>0</td>\n",
              "      <td>0</td>\n",
              "      <td>1</td>\n",
              "      <td>0</td>\n",
              "    </tr>\n",
              "    <tr>\n",
              "      <th>3</th>\n",
              "      <td>1</td>\n",
              "      <td>0</td>\n",
              "      <td>0</td>\n",
              "      <td>0</td>\n",
              "      <td>0</td>\n",
              "      <td>0</td>\n",
              "    </tr>\n",
              "    <tr>\n",
              "      <th>4</th>\n",
              "      <td>1</td>\n",
              "      <td>0</td>\n",
              "      <td>0</td>\n",
              "      <td>0</td>\n",
              "      <td>0</td>\n",
              "      <td>0</td>\n",
              "    </tr>\n",
              "    <tr>\n",
              "      <th>...</th>\n",
              "      <td>...</td>\n",
              "      <td>...</td>\n",
              "      <td>...</td>\n",
              "      <td>...</td>\n",
              "      <td>...</td>\n",
              "      <td>...</td>\n",
              "    </tr>\n",
              "    <tr>\n",
              "      <th>96493</th>\n",
              "      <td>1</td>\n",
              "      <td>0</td>\n",
              "      <td>0</td>\n",
              "      <td>0</td>\n",
              "      <td>0</td>\n",
              "      <td>0</td>\n",
              "    </tr>\n",
              "    <tr>\n",
              "      <th>96494</th>\n",
              "      <td>1</td>\n",
              "      <td>0</td>\n",
              "      <td>0</td>\n",
              "      <td>0</td>\n",
              "      <td>0</td>\n",
              "      <td>0</td>\n",
              "    </tr>\n",
              "    <tr>\n",
              "      <th>96495</th>\n",
              "      <td>1</td>\n",
              "      <td>0</td>\n",
              "      <td>0</td>\n",
              "      <td>0</td>\n",
              "      <td>0</td>\n",
              "      <td>0</td>\n",
              "    </tr>\n",
              "    <tr>\n",
              "      <th>96496</th>\n",
              "      <td>0</td>\n",
              "      <td>1</td>\n",
              "      <td>0</td>\n",
              "      <td>0</td>\n",
              "      <td>0</td>\n",
              "      <td>0</td>\n",
              "    </tr>\n",
              "    <tr>\n",
              "      <th>96497</th>\n",
              "      <td>0</td>\n",
              "      <td>1</td>\n",
              "      <td>0</td>\n",
              "      <td>0</td>\n",
              "      <td>0</td>\n",
              "      <td>0</td>\n",
              "    </tr>\n",
              "  </tbody>\n",
              "</table>\n",
              "<p>96498 rows × 6 columns</p>\n",
              "</div>"
            ],
            "text/plain": [
              "       donations  exchange  mixer  paymentgateway  unclassified  wallets\n",
              "0              0         0      0               0             1        0\n",
              "1              1         0      0               0             0        0\n",
              "2              0         0      0               0             1        0\n",
              "3              1         0      0               0             0        0\n",
              "4              1         0      0               0             0        0\n",
              "...          ...       ...    ...             ...           ...      ...\n",
              "96493          1         0      0               0             0        0\n",
              "96494          1         0      0               0             0        0\n",
              "96495          1         0      0               0             0        0\n",
              "96496          0         1      0               0             0        0\n",
              "96497          0         1      0               0             0        0\n",
              "\n",
              "[96498 rows x 6 columns]"
            ]
          },
          "metadata": {
            "tags": []
          },
          "execution_count": 17
        }
      ]
    },
    {
      "cell_type": "code",
      "metadata": {
        "id": "Xp_QWGCKwuhB",
        "colab_type": "code",
        "colab": {
          "base_uri": "https://localhost:8080/",
          "height": 119
        },
        "outputId": "42e16b1c-4702-455a-a8b9-c5d2925e8290"
      },
      "source": [
        "\n",
        "seed = 7\n",
        "test_size = 0.4\n",
        "x_train, x_test, y_train, y_test = train_test_split(X, Y, test_size=test_size, random_state=seed)\n",
        "x_val, x_test, y_val, y_test = train_test_split(x_test, y_test, test_size= 0.5, random_state=seed)\n",
        "print(x_train.shape)\n",
        "print(x_val.shape)\n",
        "print(x_test.shape)\n",
        "print(y_train.shape)\n",
        "print(y_val.shape)\n",
        "print(y_test.shape)"
      ],
      "execution_count": 18,
      "outputs": [
        {
          "output_type": "stream",
          "text": [
            "(57898, 16)\n",
            "(19300, 16)\n",
            "(19300, 16)\n",
            "(57898, 6)\n",
            "(19300, 6)\n",
            "(19300, 6)\n"
          ],
          "name": "stdout"
        }
      ]
    },
    {
      "cell_type": "code",
      "metadata": {
        "id": "7CSI8IwVwwBZ",
        "colab_type": "code",
        "colab": {
          "base_uri": "https://localhost:8080/",
          "height": 255
        },
        "outputId": "5d226d0c-2640-45f0-d47d-86ac383a7a67"
      },
      "source": [
        "from keras import models\n",
        "from keras import layers\n",
        "nn=models.Sequential()\n",
        "\n",
        "\n",
        "nn.add(layers.Dense(1024,activation = \"relu\",input_shape=(16,))) \n",
        "nn.add(layers.Dense(512,activation='tanh'))\n",
        "nn.add(layers.Dense(6,activation='softmax'))\n",
        "\n",
        "nn.summary()"
      ],
      "execution_count": 19,
      "outputs": [
        {
          "output_type": "stream",
          "text": [
            "Model: \"sequential_1\"\n",
            "_________________________________________________________________\n",
            "Layer (type)                 Output Shape              Param #   \n",
            "=================================================================\n",
            "dense_3 (Dense)              (None, 1024)              17408     \n",
            "_________________________________________________________________\n",
            "dense_4 (Dense)              (None, 512)               524800    \n",
            "_________________________________________________________________\n",
            "dense_5 (Dense)              (None, 6)                 3078      \n",
            "=================================================================\n",
            "Total params: 545,286\n",
            "Trainable params: 545,286\n",
            "Non-trainable params: 0\n",
            "_________________________________________________________________\n"
          ],
          "name": "stdout"
        }
      ]
    },
    {
      "cell_type": "code",
      "metadata": {
        "id": "kLYaJCrMw027",
        "colab_type": "code",
        "colab": {}
      },
      "source": [
        "\n",
        "nn.compile(optimizer='sgd',\n",
        "           loss='categorical_crossentropy',\n",
        "           metrics=['accuracy'])"
      ],
      "execution_count": 20,
      "outputs": []
    },
    {
      "cell_type": "code",
      "metadata": {
        "id": "Eg7a5gyww2fG",
        "colab_type": "code",
        "colab": {
          "base_uri": "https://localhost:8080/",
          "height": 1000
        },
        "outputId": "e7f3b99e-912b-4c57-8e44-deb528f2b4a5"
      },
      "source": [
        "history = nn.fit(x_train, y_train,batch_size=128,epochs =100,validation_data=(x_val, y_val))"
      ],
      "execution_count": 21,
      "outputs": [
        {
          "output_type": "stream",
          "text": [
            "Epoch 1/100\n",
            "453/453 [==============================] - 2s 3ms/step - loss: 0.6439 - accuracy: 0.8312 - val_loss: 0.6466 - val_accuracy: 0.8347\n",
            "Epoch 2/100\n",
            "453/453 [==============================] - 1s 3ms/step - loss: 0.6368 - accuracy: 0.8331 - val_loss: 0.6361 - val_accuracy: 0.8347\n",
            "Epoch 3/100\n",
            "453/453 [==============================] - 1s 3ms/step - loss: 0.6370 - accuracy: 0.8331 - val_loss: 0.6771 - val_accuracy: 0.8347\n",
            "Epoch 4/100\n",
            "453/453 [==============================] - 1s 3ms/step - loss: 0.6373 - accuracy: 0.8331 - val_loss: 0.6507 - val_accuracy: 0.8347\n",
            "Epoch 5/100\n",
            "453/453 [==============================] - 1s 3ms/step - loss: 0.6365 - accuracy: 0.8331 - val_loss: 0.6679 - val_accuracy: 0.8347\n",
            "Epoch 6/100\n",
            "453/453 [==============================] - 1s 3ms/step - loss: 0.6371 - accuracy: 0.8331 - val_loss: 0.6373 - val_accuracy: 0.8347\n",
            "Epoch 7/100\n",
            "453/453 [==============================] - 1s 3ms/step - loss: 0.6372 - accuracy: 0.8331 - val_loss: 0.6652 - val_accuracy: 0.8347\n",
            "Epoch 8/100\n",
            "453/453 [==============================] - 1s 3ms/step - loss: 0.6368 - accuracy: 0.8331 - val_loss: 0.6865 - val_accuracy: 0.8347\n",
            "Epoch 9/100\n",
            "453/453 [==============================] - 1s 3ms/step - loss: 0.6380 - accuracy: 0.8331 - val_loss: 0.6555 - val_accuracy: 0.8347\n",
            "Epoch 10/100\n",
            "453/453 [==============================] - 1s 3ms/step - loss: 0.6372 - accuracy: 0.8331 - val_loss: 0.6441 - val_accuracy: 0.8347\n",
            "Epoch 11/100\n",
            "453/453 [==============================] - 1s 3ms/step - loss: 0.6372 - accuracy: 0.8331 - val_loss: 0.6412 - val_accuracy: 0.8347\n",
            "Epoch 12/100\n",
            "453/453 [==============================] - 1s 3ms/step - loss: 0.6370 - accuracy: 0.8331 - val_loss: 0.6386 - val_accuracy: 0.8347\n",
            "Epoch 13/100\n",
            "453/453 [==============================] - 1s 3ms/step - loss: 0.6367 - accuracy: 0.8331 - val_loss: 0.6396 - val_accuracy: 0.8347\n",
            "Epoch 14/100\n",
            "453/453 [==============================] - 1s 3ms/step - loss: 0.6373 - accuracy: 0.8331 - val_loss: 0.6344 - val_accuracy: 0.8347\n",
            "Epoch 15/100\n",
            "453/453 [==============================] - 1s 3ms/step - loss: 0.6373 - accuracy: 0.8331 - val_loss: 0.6552 - val_accuracy: 0.8347\n",
            "Epoch 16/100\n",
            "453/453 [==============================] - 1s 3ms/step - loss: 0.6372 - accuracy: 0.8331 - val_loss: 0.6369 - val_accuracy: 0.8347\n",
            "Epoch 17/100\n",
            "453/453 [==============================] - 1s 3ms/step - loss: 0.6375 - accuracy: 0.8331 - val_loss: 0.6351 - val_accuracy: 0.8347\n",
            "Epoch 18/100\n",
            "453/453 [==============================] - 1s 3ms/step - loss: 0.6360 - accuracy: 0.8331 - val_loss: 0.7718 - val_accuracy: 0.8347\n",
            "Epoch 19/100\n",
            "453/453 [==============================] - 1s 3ms/step - loss: 0.6372 - accuracy: 0.8331 - val_loss: 0.6530 - val_accuracy: 0.8347\n",
            "Epoch 20/100\n",
            "453/453 [==============================] - 1s 3ms/step - loss: 0.6371 - accuracy: 0.8331 - val_loss: 0.6388 - val_accuracy: 0.8347\n",
            "Epoch 21/100\n",
            "453/453 [==============================] - 1s 3ms/step - loss: 0.6380 - accuracy: 0.8331 - val_loss: 0.6355 - val_accuracy: 0.8347\n",
            "Epoch 22/100\n",
            "453/453 [==============================] - 1s 3ms/step - loss: 0.6380 - accuracy: 0.8331 - val_loss: 0.6823 - val_accuracy: 0.8347\n",
            "Epoch 23/100\n",
            "453/453 [==============================] - 1s 3ms/step - loss: 0.6371 - accuracy: 0.8331 - val_loss: 0.6389 - val_accuracy: 0.8347\n",
            "Epoch 24/100\n",
            "453/453 [==============================] - 1s 3ms/step - loss: 0.6379 - accuracy: 0.8331 - val_loss: 0.6910 - val_accuracy: 0.8347\n",
            "Epoch 25/100\n",
            "453/453 [==============================] - 1s 3ms/step - loss: 0.6372 - accuracy: 0.8331 - val_loss: 0.6377 - val_accuracy: 0.8347\n",
            "Epoch 26/100\n",
            "453/453 [==============================] - 1s 3ms/step - loss: 0.6375 - accuracy: 0.8331 - val_loss: 0.6344 - val_accuracy: 0.8347\n",
            "Epoch 27/100\n",
            "453/453 [==============================] - 1s 3ms/step - loss: 0.6374 - accuracy: 0.8331 - val_loss: 0.6880 - val_accuracy: 0.8347\n",
            "Epoch 28/100\n",
            "453/453 [==============================] - 1s 3ms/step - loss: 0.6367 - accuracy: 0.8331 - val_loss: 0.6346 - val_accuracy: 0.8347\n",
            "Epoch 29/100\n",
            "453/453 [==============================] - 1s 3ms/step - loss: 0.6379 - accuracy: 0.8331 - val_loss: 0.6516 - val_accuracy: 0.8347\n",
            "Epoch 30/100\n",
            "453/453 [==============================] - 1s 3ms/step - loss: 0.6371 - accuracy: 0.8331 - val_loss: 0.6595 - val_accuracy: 0.8347\n",
            "Epoch 31/100\n",
            "453/453 [==============================] - 1s 3ms/step - loss: 0.6373 - accuracy: 0.8331 - val_loss: 0.6424 - val_accuracy: 0.8347\n",
            "Epoch 32/100\n",
            "453/453 [==============================] - 1s 3ms/step - loss: 0.6369 - accuracy: 0.8331 - val_loss: 0.6479 - val_accuracy: 0.8347\n",
            "Epoch 33/100\n",
            "453/453 [==============================] - 1s 3ms/step - loss: 0.6369 - accuracy: 0.8331 - val_loss: 0.6353 - val_accuracy: 0.8347\n",
            "Epoch 34/100\n",
            "453/453 [==============================] - 1s 3ms/step - loss: 0.6372 - accuracy: 0.8331 - val_loss: 0.6655 - val_accuracy: 0.8347\n",
            "Epoch 35/100\n",
            "453/453 [==============================] - 1s 3ms/step - loss: 0.6362 - accuracy: 0.8331 - val_loss: 0.6370 - val_accuracy: 0.8347\n",
            "Epoch 36/100\n",
            "453/453 [==============================] - 1s 3ms/step - loss: 0.6378 - accuracy: 0.8331 - val_loss: 0.6470 - val_accuracy: 0.8347\n",
            "Epoch 37/100\n",
            "453/453 [==============================] - 1s 3ms/step - loss: 0.6369 - accuracy: 0.8331 - val_loss: 0.6390 - val_accuracy: 0.8347\n",
            "Epoch 38/100\n",
            "453/453 [==============================] - 1s 3ms/step - loss: 0.6366 - accuracy: 0.8331 - val_loss: 0.6349 - val_accuracy: 0.8347\n",
            "Epoch 39/100\n",
            "453/453 [==============================] - 1s 3ms/step - loss: 0.6377 - accuracy: 0.8331 - val_loss: 0.6467 - val_accuracy: 0.8347\n",
            "Epoch 40/100\n",
            "453/453 [==============================] - 1s 3ms/step - loss: 0.6372 - accuracy: 0.8331 - val_loss: 0.6355 - val_accuracy: 0.8347\n",
            "Epoch 41/100\n",
            "453/453 [==============================] - 1s 3ms/step - loss: 0.6376 - accuracy: 0.8331 - val_loss: 0.6333 - val_accuracy: 0.8347\n",
            "Epoch 42/100\n",
            "453/453 [==============================] - 1s 3ms/step - loss: 0.6370 - accuracy: 0.8331 - val_loss: 0.6503 - val_accuracy: 0.8347\n",
            "Epoch 43/100\n",
            "453/453 [==============================] - 1s 3ms/step - loss: 0.6384 - accuracy: 0.8331 - val_loss: 0.6450 - val_accuracy: 0.8347\n",
            "Epoch 44/100\n",
            "453/453 [==============================] - 1s 3ms/step - loss: 0.6365 - accuracy: 0.8331 - val_loss: 0.6380 - val_accuracy: 0.8347\n",
            "Epoch 45/100\n",
            "453/453 [==============================] - 1s 3ms/step - loss: 0.6367 - accuracy: 0.8331 - val_loss: 0.6335 - val_accuracy: 0.8347\n",
            "Epoch 46/100\n",
            "453/453 [==============================] - 1s 3ms/step - loss: 0.6371 - accuracy: 0.8331 - val_loss: 0.6438 - val_accuracy: 0.8347\n",
            "Epoch 47/100\n",
            "453/453 [==============================] - 1s 3ms/step - loss: 0.6371 - accuracy: 0.8331 - val_loss: 0.6409 - val_accuracy: 0.8347\n",
            "Epoch 48/100\n",
            "453/453 [==============================] - 1s 3ms/step - loss: 0.6379 - accuracy: 0.8331 - val_loss: 0.6418 - val_accuracy: 0.8347\n",
            "Epoch 49/100\n",
            "453/453 [==============================] - 1s 3ms/step - loss: 0.6376 - accuracy: 0.8331 - val_loss: 0.6330 - val_accuracy: 0.8347\n",
            "Epoch 50/100\n",
            "453/453 [==============================] - 1s 3ms/step - loss: 0.6370 - accuracy: 0.8331 - val_loss: 0.6349 - val_accuracy: 0.8347\n",
            "Epoch 51/100\n",
            "453/453 [==============================] - 1s 3ms/step - loss: 0.6368 - accuracy: 0.8331 - val_loss: 0.6352 - val_accuracy: 0.8347\n",
            "Epoch 52/100\n",
            "453/453 [==============================] - 1s 3ms/step - loss: 0.6371 - accuracy: 0.8331 - val_loss: 0.6894 - val_accuracy: 0.8347\n",
            "Epoch 53/100\n",
            "453/453 [==============================] - 1s 3ms/step - loss: 0.6374 - accuracy: 0.8331 - val_loss: 0.6627 - val_accuracy: 0.8347\n",
            "Epoch 54/100\n",
            "453/453 [==============================] - 1s 3ms/step - loss: 0.6372 - accuracy: 0.8331 - val_loss: 0.6456 - val_accuracy: 0.8347\n",
            "Epoch 55/100\n",
            "453/453 [==============================] - 1s 3ms/step - loss: 0.6373 - accuracy: 0.8331 - val_loss: 0.6414 - val_accuracy: 0.8347\n",
            "Epoch 56/100\n",
            "453/453 [==============================] - 1s 3ms/step - loss: 0.6363 - accuracy: 0.8331 - val_loss: 0.6352 - val_accuracy: 0.8347\n",
            "Epoch 57/100\n",
            "453/453 [==============================] - 1s 3ms/step - loss: 0.6375 - accuracy: 0.8331 - val_loss: 0.6806 - val_accuracy: 0.8347\n",
            "Epoch 58/100\n",
            "453/453 [==============================] - 1s 3ms/step - loss: 0.6376 - accuracy: 0.8331 - val_loss: 0.6671 - val_accuracy: 0.8347\n",
            "Epoch 59/100\n",
            "453/453 [==============================] - 1s 3ms/step - loss: 0.6371 - accuracy: 0.8331 - val_loss: 0.6368 - val_accuracy: 0.8347\n",
            "Epoch 60/100\n",
            "453/453 [==============================] - 1s 3ms/step - loss: 0.6372 - accuracy: 0.8331 - val_loss: 0.6543 - val_accuracy: 0.8347\n",
            "Epoch 61/100\n",
            "453/453 [==============================] - 1s 3ms/step - loss: 0.6372 - accuracy: 0.8331 - val_loss: 0.6500 - val_accuracy: 0.8347\n",
            "Epoch 62/100\n",
            "453/453 [==============================] - 1s 3ms/step - loss: 0.6371 - accuracy: 0.8331 - val_loss: 0.6340 - val_accuracy: 0.8347\n",
            "Epoch 63/100\n",
            "453/453 [==============================] - 1s 3ms/step - loss: 0.6376 - accuracy: 0.8331 - val_loss: 0.6885 - val_accuracy: 0.8347\n",
            "Epoch 64/100\n",
            "453/453 [==============================] - 1s 3ms/step - loss: 0.6376 - accuracy: 0.8331 - val_loss: 0.6362 - val_accuracy: 0.8347\n",
            "Epoch 65/100\n",
            "453/453 [==============================] - 1s 3ms/step - loss: 0.6370 - accuracy: 0.8331 - val_loss: 0.6412 - val_accuracy: 0.8347\n",
            "Epoch 66/100\n",
            "453/453 [==============================] - 1s 3ms/step - loss: 0.6377 - accuracy: 0.8331 - val_loss: 0.6393 - val_accuracy: 0.8347\n",
            "Epoch 67/100\n",
            "453/453 [==============================] - 1s 3ms/step - loss: 0.6371 - accuracy: 0.8331 - val_loss: 0.6474 - val_accuracy: 0.8347\n",
            "Epoch 68/100\n",
            "453/453 [==============================] - 1s 3ms/step - loss: 0.6372 - accuracy: 0.8331 - val_loss: 0.6558 - val_accuracy: 0.8347\n",
            "Epoch 69/100\n",
            "453/453 [==============================] - 1s 3ms/step - loss: 0.6371 - accuracy: 0.8331 - val_loss: 0.6482 - val_accuracy: 0.8347\n",
            "Epoch 70/100\n",
            "453/453 [==============================] - 1s 3ms/step - loss: 0.6382 - accuracy: 0.8331 - val_loss: 0.6368 - val_accuracy: 0.8347\n",
            "Epoch 71/100\n",
            "453/453 [==============================] - 1s 3ms/step - loss: 0.6376 - accuracy: 0.8331 - val_loss: 0.6404 - val_accuracy: 0.8347\n",
            "Epoch 72/100\n",
            "453/453 [==============================] - 1s 3ms/step - loss: 0.6375 - accuracy: 0.8331 - val_loss: 0.6466 - val_accuracy: 0.8347\n",
            "Epoch 73/100\n",
            "453/453 [==============================] - 1s 3ms/step - loss: 0.6373 - accuracy: 0.8331 - val_loss: 0.6761 - val_accuracy: 0.8347\n",
            "Epoch 74/100\n",
            "453/453 [==============================] - 1s 3ms/step - loss: 0.6369 - accuracy: 0.8331 - val_loss: 0.6392 - val_accuracy: 0.8347\n",
            "Epoch 75/100\n",
            "453/453 [==============================] - 1s 3ms/step - loss: 0.6373 - accuracy: 0.8331 - val_loss: 0.6439 - val_accuracy: 0.8347\n",
            "Epoch 76/100\n",
            "453/453 [==============================] - 1s 3ms/step - loss: 0.6376 - accuracy: 0.8331 - val_loss: 0.6366 - val_accuracy: 0.8347\n",
            "Epoch 77/100\n",
            "453/453 [==============================] - 1s 3ms/step - loss: 0.6369 - accuracy: 0.8331 - val_loss: 0.6517 - val_accuracy: 0.8347\n",
            "Epoch 78/100\n",
            "453/453 [==============================] - 1s 3ms/step - loss: 0.6362 - accuracy: 0.8331 - val_loss: 0.6367 - val_accuracy: 0.8347\n",
            "Epoch 79/100\n",
            "453/453 [==============================] - 1s 3ms/step - loss: 0.6379 - accuracy: 0.8331 - val_loss: 0.6381 - val_accuracy: 0.8347\n",
            "Epoch 80/100\n",
            "453/453 [==============================] - 1s 3ms/step - loss: 0.6376 - accuracy: 0.8331 - val_loss: 0.6497 - val_accuracy: 0.8347\n",
            "Epoch 81/100\n",
            "453/453 [==============================] - 1s 3ms/step - loss: 0.6369 - accuracy: 0.8331 - val_loss: 0.6378 - val_accuracy: 0.8347\n",
            "Epoch 82/100\n",
            "453/453 [==============================] - 1s 3ms/step - loss: 0.6376 - accuracy: 0.8331 - val_loss: 0.6369 - val_accuracy: 0.8347\n",
            "Epoch 83/100\n",
            "453/453 [==============================] - 1s 3ms/step - loss: 0.6364 - accuracy: 0.8331 - val_loss: 0.6613 - val_accuracy: 0.8347\n",
            "Epoch 84/100\n",
            "453/453 [==============================] - 1s 3ms/step - loss: 0.6378 - accuracy: 0.8331 - val_loss: 0.6396 - val_accuracy: 0.8347\n",
            "Epoch 85/100\n",
            "453/453 [==============================] - 1s 3ms/step - loss: 0.6372 - accuracy: 0.8331 - val_loss: 0.6382 - val_accuracy: 0.8347\n",
            "Epoch 86/100\n",
            "453/453 [==============================] - 1s 3ms/step - loss: 0.6379 - accuracy: 0.8331 - val_loss: 0.6476 - val_accuracy: 0.8347\n",
            "Epoch 87/100\n",
            "453/453 [==============================] - 1s 3ms/step - loss: 0.6373 - accuracy: 0.8331 - val_loss: 0.6653 - val_accuracy: 0.8347\n",
            "Epoch 88/100\n",
            "453/453 [==============================] - 1s 3ms/step - loss: 0.6379 - accuracy: 0.8331 - val_loss: 0.6365 - val_accuracy: 0.8347\n",
            "Epoch 89/100\n",
            "453/453 [==============================] - 1s 3ms/step - loss: 0.6371 - accuracy: 0.8331 - val_loss: 0.6632 - val_accuracy: 0.8347\n",
            "Epoch 90/100\n",
            "453/453 [==============================] - 1s 3ms/step - loss: 0.6371 - accuracy: 0.8331 - val_loss: 0.6544 - val_accuracy: 0.8347\n",
            "Epoch 91/100\n",
            "453/453 [==============================] - 1s 3ms/step - loss: 0.6367 - accuracy: 0.8331 - val_loss: 0.6373 - val_accuracy: 0.8347\n",
            "Epoch 92/100\n",
            "453/453 [==============================] - 1s 3ms/step - loss: 0.6377 - accuracy: 0.8331 - val_loss: 0.6355 - val_accuracy: 0.8347\n",
            "Epoch 93/100\n",
            "453/453 [==============================] - 1s 3ms/step - loss: 0.6372 - accuracy: 0.8331 - val_loss: 0.6371 - val_accuracy: 0.8347\n",
            "Epoch 94/100\n",
            "453/453 [==============================] - 1s 3ms/step - loss: 0.6376 - accuracy: 0.8331 - val_loss: 0.6406 - val_accuracy: 0.8347\n",
            "Epoch 95/100\n",
            "453/453 [==============================] - 1s 3ms/step - loss: 0.6365 - accuracy: 0.8331 - val_loss: 0.7964 - val_accuracy: 0.8347\n",
            "Epoch 96/100\n",
            "453/453 [==============================] - 1s 3ms/step - loss: 0.6374 - accuracy: 0.8331 - val_loss: 0.6385 - val_accuracy: 0.8347\n",
            "Epoch 97/100\n",
            "453/453 [==============================] - 1s 3ms/step - loss: 0.6371 - accuracy: 0.8331 - val_loss: 0.6385 - val_accuracy: 0.8347\n",
            "Epoch 98/100\n",
            "453/453 [==============================] - 1s 3ms/step - loss: 0.6372 - accuracy: 0.8331 - val_loss: 0.6534 - val_accuracy: 0.8347\n",
            "Epoch 99/100\n",
            "453/453 [==============================] - 1s 3ms/step - loss: 0.6375 - accuracy: 0.8331 - val_loss: 0.6330 - val_accuracy: 0.8347\n",
            "Epoch 100/100\n",
            "453/453 [==============================] - 1s 3ms/step - loss: 0.6371 - accuracy: 0.8331 - val_loss: 0.6358 - val_accuracy: 0.8347\n"
          ],
          "name": "stdout"
        }
      ]
    },
    {
      "cell_type": "code",
      "metadata": {
        "id": "_AeDsUjsw4mT",
        "colab_type": "code",
        "colab": {}
      },
      "source": [
        "loss_train = history.history['loss']\n",
        "loss_val = history.history['val_loss']\n",
        "epochs = range(1,101)\n",
        "plt.plot(epochs, loss_train, 'g', label='Training loss')\n",
        "plt.plot(epochs, loss_val, 'b', label='validation loss')\n",
        "plt.title('Training and Validation loss')\n",
        "plt.xlabel('Epochs')\n",
        "plt.ylabel('Loss')\n",
        "plt.legend()\n",
        "plt.show()"
      ],
      "execution_count": 21,
      "outputs": []
    },
    {
      "cell_type": "code",
      "metadata": {
        "id": "8fJM177rxImd",
        "colab_type": "code",
        "colab": {
          "base_uri": "https://localhost:8080/",
          "height": 295
        },
        "outputId": "13cf47ad-6ee3-466e-a8d7-4eb00bd2abae"
      },
      "source": [
        "loss_train = history.history['accuracy']\n",
        "loss_val = history.history['val_accuracy']\n",
        "epochs = range(1,101)\n",
        "plt.plot(epochs, loss_train, 'g', label='Training accuracy')\n",
        "plt.plot(epochs, loss_val, 'b', label='validation accuracy')\n",
        "plt.title('Training and Validation accuracy')\n",
        "plt.xlabel('Epochs')\n",
        "plt.ylabel('Accuracy')\n",
        "plt.legend()\n",
        "plt.show()"
      ],
      "execution_count": 22,
      "outputs": [
        {
          "output_type": "display_data",
          "data": {
            "image/png": "[encoded data removed]",
            "text/plain": [
              "<Figure size 432x288 with 1 Axes>"
            ]
          },
          "metadata": {
            "tags": [],
            "needs_background": "light"
          }
        }
      ]
    },
    {
      "cell_type": "code",
      "metadata": {
        "id": "4HGt9ADvxK-3",
        "colab_type": "code",
        "colab": {
          "base_uri": "https://localhost:8080/",
          "height": 119
        },
        "outputId": "ba4128a0-a14c-4257-931a-bccdf6cc3544"
      },
      "source": [
        "\n",
        "train_loss,train_accuracy = nn.evaluate(x_train,y_train)\n",
        "val_loss,val_accuracy = nn.evaluate(x_val,y_val)\n",
        "test_loss,test_accuracy = nn.evaluate(x_test,y_test)\n",
        "print('Training Accuracy : ',train_accuracy*100,\"%\")\n",
        "print('Val Accuracy : ',val_accuracy*100,\"%\")\n",
        "print('Test Accuracy : ',test_accuracy*100,\"%\")"
      ],
      "execution_count": 23,
      "outputs": [
        {
          "output_type": "stream",
          "text": [
            "1810/1810 [==============================] - 3s 2ms/step - loss: 0.6356 - accuracy: 0.8331\n",
            "604/604 [==============================] - 1s 2ms/step - loss: 0.6358 - accuracy: 0.8347\n",
            "604/604 [==============================] - 1s 2ms/step - loss: 0.6364 - accuracy: 0.8338\n",
            "Training Accuracy :  83.30512046813965 %\n",
            "Val Accuracy :  83.47150087356567 %\n",
            "Test Accuracy :  83.3834171295166 %\n"
          ],
          "name": "stdout"
        }
      ]
    },
    {
      "cell_type": "code",
      "metadata": {
        "id": "YrGaIQf6xMyL",
        "colab_type": "code",
        "colab": {}
      },
      "source": [
        ""
      ],
      "execution_count": null,
      "outputs": []
    }
  ]
}