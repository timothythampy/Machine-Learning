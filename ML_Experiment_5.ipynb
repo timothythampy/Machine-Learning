{
  "nbformat": 4,
  "nbformat_minor": 0,
  "metadata": {
    "colab": {
      "name": "ML_Experiment_5.ipynb",
      "provenance": [],
      "authorship_tag": "ABX9TyMUQKj/cfbnER/P+5oM1CWY",
      "include_colab_link": true
    },
    "kernelspec": {
      "name": "python3",
      "display_name": "Python 3"
    }
  },
  "cells": [
    {
      "cell_type": "markdown",
      "metadata": {
        "id": "view-in-github",
        "colab_type": "text"
      },
      "source": [
        "<a href=\"https://colab.research.google.com/github/timothythampy/Machine-Learning/blob/master/ML_Experiment_5.ipynb\" target=\"_parent\"><img src=\"https://colab.research.google.com/assets/colab-badge.svg\" alt=\"Open In Colab\"/></a>"
      ]
    },
    {
      "cell_type": "code",
      "metadata": {
        "id": "5GcEoSCcu1QR",
        "colab_type": "code",
        "colab": {}
      },
      "source": [
        "import pandas as pd\n",
        "from keras.models import Sequential\n",
        "from keras.layers import Dense\n",
        "from keras.wrappers.scikit_learn import KerasClassifier\n",
        "from keras.utils import np_utils\n",
        "from sklearn.model_selection import cross_val_score\n",
        "from sklearn.model_selection import KFold\n",
        "from sklearn.preprocessing import LabelEncoder\n",
        "from sklearn.pipeline import Pipeline\n",
        "from sklearn.datasets import load_iris\n",
        "from sklearn.model_selection import train_test_split\n",
        "from sklearn.preprocessing import OneHotEncoder\n",
        "from keras.optimizers import Adam"
      ],
      "execution_count": 1,
      "outputs": []
    },
    {
      "cell_type": "code",
      "metadata": {
        "id": "wrvmPkXru7mj",
        "colab_type": "code",
        "colab": {
          "base_uri": "https://localhost:8080/",
          "height": 204
        },
        "outputId": "cb63bceb-ca1d-4c07-a64a-6e7a42945c90"
      },
      "source": [
        "!wget -O FuelConsumption.csv https://s3-api.us-geo.objectstorage.softlayer.net/cf-courses-data/CognitiveClass/ML0101ENv3/labs/FuelConsumptionCo2.csv"
      ],
      "execution_count": 2,
      "outputs": [
        {
          "output_type": "stream",
          "text": [
            "--2020-08-30 18:58:09--  https://s3-api.us-geo.objectstorage.softlayer.net/cf-courses-data/CognitiveClass/ML0101ENv3/labs/FuelConsumptionCo2.csv\n",
            "Resolving s3-api.us-geo.objectstorage.softlayer.net (s3-api.us-geo.objectstorage.softlayer.net)... 67.228.254.196\n",
            "Connecting to s3-api.us-geo.objectstorage.softlayer.net (s3-api.us-geo.objectstorage.softlayer.net)|67.228.254.196|:443... connected.\n",
            "HTTP request sent, awaiting response... 200 OK\n",
            "Length: 72629 (71K) [text/csv]\n",
            "Saving to: ‘FuelConsumption.csv’\n",
            "\n",
            "FuelConsumption.csv 100%[===================>]  70.93K  --.-KB/s    in 0.04s   \n",
            "\n",
            "2020-08-30 18:58:09 (1.56 MB/s) - ‘FuelConsumption.csv’ saved [72629/72629]\n",
            "\n"
          ],
          "name": "stdout"
        }
      ]
    },
    {
      "cell_type": "code",
      "metadata": {
        "id": "FZU73sIku9Hk",
        "colab_type": "code",
        "colab": {
          "base_uri": "https://localhost:8080/",
          "height": 102
        },
        "outputId": "f5664371-a65c-434b-cea9-94538040c9ac"
      },
      "source": [
        "fuelc = pd.read_csv('FuelConsumption.csv')\n",
        "fuelc.head()\n",
        "fuelc.columns"
      ],
      "execution_count": 3,
      "outputs": [
        {
          "output_type": "execute_result",
          "data": {
            "text/plain": [
              "Index(['MODELYEAR', 'MAKE', 'MODEL', 'VEHICLECLASS', 'ENGINESIZE', 'CYLINDERS',\n",
              "       'TRANSMISSION', 'FUELTYPE', 'FUELCONSUMPTION_CITY',\n",
              "       'FUELCONSUMPTION_HWY', 'FUELCONSUMPTION_COMB',\n",
              "       'FUELCONSUMPTION_COMB_MPG', 'CO2EMISSIONS'],\n",
              "      dtype='object')"
            ]
          },
          "metadata": {
            "tags": []
          },
          "execution_count": 3
        }
      ]
    },
    {
      "cell_type": "code",
      "metadata": {
        "id": "2Gh7W2qAu-pI",
        "colab_type": "code",
        "colab": {
          "base_uri": "https://localhost:8080/",
          "height": 71
        },
        "outputId": "a84c21d7-17b6-4075-ebd1-e338e8bcfc31"
      },
      "source": [
        "\n",
        "#for maths and data types\n",
        "import numpy as np\n",
        "import pandas as pd\n",
        "#for visualization (graphs)\n",
        "import matplotlib.pyplot as plt\n",
        "import seaborn as sns\n",
        "# train_test_split- to split the datasets\n",
        "#cross_val_score\n",
        "from sklearn.model_selection import train_test_split, cross_val_score\n",
        "from sklearn.preprocessing import StandardScaler\n",
        "#lm regression\n",
        "from sklearn import linear_model\n",
        "from sklearn.model_selection import GridSearchCV, RandomizedSearchCV\n",
        "#do not print warning \n",
        "import warnings\n",
        "warnings.filterwarnings('ignore')\n",
        "#random set seed\n",
        "np.random.seed(27)"
      ],
      "execution_count": 4,
      "outputs": [
        {
          "output_type": "stream",
          "text": [
            "/usr/local/lib/python3.6/dist-packages/statsmodels/tools/_testing.py:19: FutureWarning: pandas.util.testing is deprecated. Use the functions in the public API at pandas.testing instead.\n",
            "  import pandas.util.testing as tm\n"
          ],
          "name": "stderr"
        }
      ]
    },
    {
      "cell_type": "code",
      "metadata": {
        "id": "NH1M9K-SvAHI",
        "colab_type": "code",
        "colab": {
          "base_uri": "https://localhost:8080/",
          "height": 357
        },
        "outputId": "bc0d1ea1-d463-4282-d0e8-a02e0081625d"
      },
      "source": [
        "fuelc.info()"
      ],
      "execution_count": 5,
      "outputs": [
        {
          "output_type": "stream",
          "text": [
            "<class 'pandas.core.frame.DataFrame'>\n",
            "RangeIndex: 1067 entries, 0 to 1066\n",
            "Data columns (total 13 columns):\n",
            " #   Column                    Non-Null Count  Dtype  \n",
            "---  ------                    --------------  -----  \n",
            " 0   MODELYEAR                 1067 non-null   int64  \n",
            " 1   MAKE                      1067 non-null   object \n",
            " 2   MODEL                     1067 non-null   object \n",
            " 3   VEHICLECLASS              1067 non-null   object \n",
            " 4   ENGINESIZE                1067 non-null   float64\n",
            " 5   CYLINDERS                 1067 non-null   int64  \n",
            " 6   TRANSMISSION              1067 non-null   object \n",
            " 7   FUELTYPE                  1067 non-null   object \n",
            " 8   FUELCONSUMPTION_CITY      1067 non-null   float64\n",
            " 9   FUELCONSUMPTION_HWY       1067 non-null   float64\n",
            " 10  FUELCONSUMPTION_COMB      1067 non-null   float64\n",
            " 11  FUELCONSUMPTION_COMB_MPG  1067 non-null   int64  \n",
            " 12  CO2EMISSIONS              1067 non-null   int64  \n",
            "dtypes: float64(4), int64(4), object(5)\n",
            "memory usage: 108.5+ KB\n"
          ],
          "name": "stdout"
        }
      ]
    },
    {
      "cell_type": "code",
      "metadata": {
        "id": "ERKDMRh7vBh-",
        "colab_type": "code",
        "colab": {
          "base_uri": "https://localhost:8080/",
          "height": 255
        },
        "outputId": "c89a719a-126b-4e4b-8b03-6843b2013519"
      },
      "source": [
        "fuelc.nunique()"
      ],
      "execution_count": 6,
      "outputs": [
        {
          "output_type": "execute_result",
          "data": {
            "text/plain": [
              "MODELYEAR                     1\n",
              "MAKE                         39\n",
              "MODEL                       663\n",
              "VEHICLECLASS                 16\n",
              "ENGINESIZE                   45\n",
              "CYLINDERS                     7\n",
              "TRANSMISSION                 22\n",
              "FUELTYPE                      4\n",
              "FUELCONSUMPTION_CITY        167\n",
              "FUELCONSUMPTION_HWY         118\n",
              "FUELCONSUMPTION_COMB        148\n",
              "FUELCONSUMPTION_COMB_MPG     43\n",
              "CO2EMISSIONS                159\n",
              "dtype: int64"
            ]
          },
          "metadata": {
            "tags": []
          },
          "execution_count": 6
        }
      ]
    },
    {
      "cell_type": "code",
      "metadata": {
        "id": "23YRoWgdvC2C",
        "colab_type": "code",
        "colab": {}
      },
      "source": [
        "%matplotlib inline\n",
        "\n",
        "plt.rcParams['figure.figsize'] = [20.0, 7.0]\n",
        "\n",
        "plt.rcParams.update({'font.size': 22,})\n",
        "\n",
        "sns.set_palette('viridis')\n",
        "sns.set_style('white')\n",
        "sns.set_context('talk', font_scale=0.8)"
      ],
      "execution_count": 7,
      "outputs": []
    },
    {
      "cell_type": "code",
      "metadata": {
        "id": "86Q1ojMdvE4d",
        "colab_type": "code",
        "colab": {
          "base_uri": "https://localhost:8080/",
          "height": 224
        },
        "outputId": "9a629cc1-91bb-4aa4-95dd-08b4533b5d28"
      },
      "source": [
        "fuelc.drop('MODELYEAR', axis = 1, inplace = True)\n",
        "fuelc.drop('MODEL', axis = 1, inplace = True)\n",
        "fuelc.drop('MAKE', axis = 1, inplace = True)\n",
        "fuelc.head()"
      ],
      "execution_count": 8,
      "outputs": [
        {
          "output_type": "execute_result",
          "data": {
            "text/html": [
              "<div>\n",
              "<style scoped>\n",
              "    .dataframe tbody tr th:only-of-type {\n",
              "        vertical-align: middle;\n",
              "    }\n",
              "\n",
              "    .dataframe tbody tr th {\n",
              "        vertical-align: top;\n",
              "    }\n",
              "\n",
              "    .dataframe thead th {\n",
              "        text-align: right;\n",
              "    }\n",
              "</style>\n",
              "<table border=\"1\" class=\"dataframe\">\n",
              "  <thead>\n",
              "    <tr style=\"text-align: right;\">\n",
              "      <th></th>\n",
              "      <th>VEHICLECLASS</th>\n",
              "      <th>ENGINESIZE</th>\n",
              "      <th>CYLINDERS</th>\n",
              "      <th>TRANSMISSION</th>\n",
              "      <th>FUELTYPE</th>\n",
              "      <th>FUELCONSUMPTION_CITY</th>\n",
              "      <th>FUELCONSUMPTION_HWY</th>\n",
              "      <th>FUELCONSUMPTION_COMB</th>\n",
              "      <th>FUELCONSUMPTION_COMB_MPG</th>\n",
              "      <th>CO2EMISSIONS</th>\n",
              "    </tr>\n",
              "  </thead>\n",
              "  <tbody>\n",
              "    <tr>\n",
              "      <th>0</th>\n",
              "      <td>COMPACT</td>\n",
              "      <td>2.0</td>\n",
              "      <td>4</td>\n",
              "      <td>AS5</td>\n",
              "      <td>Z</td>\n",
              "      <td>9.9</td>\n",
              "      <td>6.7</td>\n",
              "      <td>8.5</td>\n",
              "      <td>33</td>\n",
              "      <td>196</td>\n",
              "    </tr>\n",
              "    <tr>\n",
              "      <th>1</th>\n",
              "      <td>COMPACT</td>\n",
              "      <td>2.4</td>\n",
              "      <td>4</td>\n",
              "      <td>M6</td>\n",
              "      <td>Z</td>\n",
              "      <td>11.2</td>\n",
              "      <td>7.7</td>\n",
              "      <td>9.6</td>\n",
              "      <td>29</td>\n",
              "      <td>221</td>\n",
              "    </tr>\n",
              "    <tr>\n",
              "      <th>2</th>\n",
              "      <td>COMPACT</td>\n",
              "      <td>1.5</td>\n",
              "      <td>4</td>\n",
              "      <td>AV7</td>\n",
              "      <td>Z</td>\n",
              "      <td>6.0</td>\n",
              "      <td>5.8</td>\n",
              "      <td>5.9</td>\n",
              "      <td>48</td>\n",
              "      <td>136</td>\n",
              "    </tr>\n",
              "    <tr>\n",
              "      <th>3</th>\n",
              "      <td>SUV - SMALL</td>\n",
              "      <td>3.5</td>\n",
              "      <td>6</td>\n",
              "      <td>AS6</td>\n",
              "      <td>Z</td>\n",
              "      <td>12.7</td>\n",
              "      <td>9.1</td>\n",
              "      <td>11.1</td>\n",
              "      <td>25</td>\n",
              "      <td>255</td>\n",
              "    </tr>\n",
              "    <tr>\n",
              "      <th>4</th>\n",
              "      <td>SUV - SMALL</td>\n",
              "      <td>3.5</td>\n",
              "      <td>6</td>\n",
              "      <td>AS6</td>\n",
              "      <td>Z</td>\n",
              "      <td>12.1</td>\n",
              "      <td>8.7</td>\n",
              "      <td>10.6</td>\n",
              "      <td>27</td>\n",
              "      <td>244</td>\n",
              "    </tr>\n",
              "  </tbody>\n",
              "</table>\n",
              "</div>"
            ],
            "text/plain": [
              "  VEHICLECLASS  ENGINESIZE  ...  FUELCONSUMPTION_COMB_MPG CO2EMISSIONS\n",
              "0      COMPACT         2.0  ...                        33          196\n",
              "1      COMPACT         2.4  ...                        29          221\n",
              "2      COMPACT         1.5  ...                        48          136\n",
              "3  SUV - SMALL         3.5  ...                        25          255\n",
              "4  SUV - SMALL         3.5  ...                        27          244\n",
              "\n",
              "[5 rows x 10 columns]"
            ]
          },
          "metadata": {
            "tags": []
          },
          "execution_count": 8
        }
      ]
    },
    {
      "cell_type": "code",
      "metadata": {
        "id": "AQD1F1F4vJW4",
        "colab_type": "code",
        "colab": {
          "base_uri": "https://localhost:8080/",
          "height": 241
        },
        "outputId": "1e61b83f-fd03-4672-d803-22947781e624"
      },
      "source": [
        "fuelc = pd.get_dummies(fuelc)\n",
        "fuelc.head()"
      ],
      "execution_count": 9,
      "outputs": [
        {
          "output_type": "execute_result",
          "data": {
            "text/html": [
              "<div>\n",
              "<style scoped>\n",
              "    .dataframe tbody tr th:only-of-type {\n",
              "        vertical-align: middle;\n",
              "    }\n",
              "\n",
              "    .dataframe tbody tr th {\n",
              "        vertical-align: top;\n",
              "    }\n",
              "\n",
              "    .dataframe thead th {\n",
              "        text-align: right;\n",
              "    }\n",
              "</style>\n",
              "<table border=\"1\" class=\"dataframe\">\n",
              "  <thead>\n",
              "    <tr style=\"text-align: right;\">\n",
              "      <th></th>\n",
              "      <th>ENGINESIZE</th>\n",
              "      <th>CYLINDERS</th>\n",
              "      <th>FUELCONSUMPTION_CITY</th>\n",
              "      <th>FUELCONSUMPTION_HWY</th>\n",
              "      <th>FUELCONSUMPTION_COMB</th>\n",
              "      <th>FUELCONSUMPTION_COMB_MPG</th>\n",
              "      <th>CO2EMISSIONS</th>\n",
              "      <th>VEHICLECLASS_COMPACT</th>\n",
              "      <th>VEHICLECLASS_FULL-SIZE</th>\n",
              "      <th>VEHICLECLASS_MID-SIZE</th>\n",
              "      <th>VEHICLECLASS_MINICOMPACT</th>\n",
              "      <th>VEHICLECLASS_MINIVAN</th>\n",
              "      <th>VEHICLECLASS_PICKUP TRUCK - SMALL</th>\n",
              "      <th>VEHICLECLASS_PICKUP TRUCK - STANDARD</th>\n",
              "      <th>VEHICLECLASS_SPECIAL PURPOSE VEHICLE</th>\n",
              "      <th>VEHICLECLASS_STATION WAGON - MID-SIZE</th>\n",
              "      <th>VEHICLECLASS_STATION WAGON - SMALL</th>\n",
              "      <th>VEHICLECLASS_SUBCOMPACT</th>\n",
              "      <th>VEHICLECLASS_SUV - SMALL</th>\n",
              "      <th>VEHICLECLASS_SUV - STANDARD</th>\n",
              "      <th>VEHICLECLASS_TWO-SEATER</th>\n",
              "      <th>VEHICLECLASS_VAN - CARGO</th>\n",
              "      <th>VEHICLECLASS_VAN - PASSENGER</th>\n",
              "      <th>TRANSMISSION_A4</th>\n",
              "      <th>TRANSMISSION_A5</th>\n",
              "      <th>TRANSMISSION_A6</th>\n",
              "      <th>TRANSMISSION_A7</th>\n",
              "      <th>TRANSMISSION_A8</th>\n",
              "      <th>TRANSMISSION_A9</th>\n",
              "      <th>TRANSMISSION_AM5</th>\n",
              "      <th>TRANSMISSION_AM6</th>\n",
              "      <th>TRANSMISSION_AM7</th>\n",
              "      <th>TRANSMISSION_AS4</th>\n",
              "      <th>TRANSMISSION_AS5</th>\n",
              "      <th>TRANSMISSION_AS6</th>\n",
              "      <th>TRANSMISSION_AS7</th>\n",
              "      <th>TRANSMISSION_AS8</th>\n",
              "      <th>TRANSMISSION_AS9</th>\n",
              "      <th>TRANSMISSION_AV</th>\n",
              "      <th>TRANSMISSION_AV6</th>\n",
              "      <th>TRANSMISSION_AV7</th>\n",
              "      <th>TRANSMISSION_AV8</th>\n",
              "      <th>TRANSMISSION_M5</th>\n",
              "      <th>TRANSMISSION_M6</th>\n",
              "      <th>TRANSMISSION_M7</th>\n",
              "      <th>FUELTYPE_D</th>\n",
              "      <th>FUELTYPE_E</th>\n",
              "      <th>FUELTYPE_X</th>\n",
              "      <th>FUELTYPE_Z</th>\n",
              "    </tr>\n",
              "  </thead>\n",
              "  <tbody>\n",
              "    <tr>\n",
              "      <th>0</th>\n",
              "      <td>2.0</td>\n",
              "      <td>4</td>\n",
              "      <td>9.9</td>\n",
              "      <td>6.7</td>\n",
              "      <td>8.5</td>\n",
              "      <td>33</td>\n",
              "      <td>196</td>\n",
              "      <td>1</td>\n",
              "      <td>0</td>\n",
              "      <td>0</td>\n",
              "      <td>0</td>\n",
              "      <td>0</td>\n",
              "      <td>0</td>\n",
              "      <td>0</td>\n",
              "      <td>0</td>\n",
              "      <td>0</td>\n",
              "      <td>0</td>\n",
              "      <td>0</td>\n",
              "      <td>0</td>\n",
              "      <td>0</td>\n",
              "      <td>0</td>\n",
              "      <td>0</td>\n",
              "      <td>0</td>\n",
              "      <td>0</td>\n",
              "      <td>0</td>\n",
              "      <td>0</td>\n",
              "      <td>0</td>\n",
              "      <td>0</td>\n",
              "      <td>0</td>\n",
              "      <td>0</td>\n",
              "      <td>0</td>\n",
              "      <td>0</td>\n",
              "      <td>0</td>\n",
              "      <td>1</td>\n",
              "      <td>0</td>\n",
              "      <td>0</td>\n",
              "      <td>0</td>\n",
              "      <td>0</td>\n",
              "      <td>0</td>\n",
              "      <td>0</td>\n",
              "      <td>0</td>\n",
              "      <td>0</td>\n",
              "      <td>0</td>\n",
              "      <td>0</td>\n",
              "      <td>0</td>\n",
              "      <td>0</td>\n",
              "      <td>0</td>\n",
              "      <td>0</td>\n",
              "      <td>1</td>\n",
              "    </tr>\n",
              "    <tr>\n",
              "      <th>1</th>\n",
              "      <td>2.4</td>\n",
              "      <td>4</td>\n",
              "      <td>11.2</td>\n",
              "      <td>7.7</td>\n",
              "      <td>9.6</td>\n",
              "      <td>29</td>\n",
              "      <td>221</td>\n",
              "      <td>1</td>\n",
              "      <td>0</td>\n",
              "      <td>0</td>\n",
              "      <td>0</td>\n",
              "      <td>0</td>\n",
              "      <td>0</td>\n",
              "      <td>0</td>\n",
              "      <td>0</td>\n",
              "      <td>0</td>\n",
              "      <td>0</td>\n",
              "      <td>0</td>\n",
              "      <td>0</td>\n",
              "      <td>0</td>\n",
              "      <td>0</td>\n",
              "      <td>0</td>\n",
              "      <td>0</td>\n",
              "      <td>0</td>\n",
              "      <td>0</td>\n",
              "      <td>0</td>\n",
              "      <td>0</td>\n",
              "      <td>0</td>\n",
              "      <td>0</td>\n",
              "      <td>0</td>\n",
              "      <td>0</td>\n",
              "      <td>0</td>\n",
              "      <td>0</td>\n",
              "      <td>0</td>\n",
              "      <td>0</td>\n",
              "      <td>0</td>\n",
              "      <td>0</td>\n",
              "      <td>0</td>\n",
              "      <td>0</td>\n",
              "      <td>0</td>\n",
              "      <td>0</td>\n",
              "      <td>0</td>\n",
              "      <td>0</td>\n",
              "      <td>1</td>\n",
              "      <td>0</td>\n",
              "      <td>0</td>\n",
              "      <td>0</td>\n",
              "      <td>0</td>\n",
              "      <td>1</td>\n",
              "    </tr>\n",
              "    <tr>\n",
              "      <th>2</th>\n",
              "      <td>1.5</td>\n",
              "      <td>4</td>\n",
              "      <td>6.0</td>\n",
              "      <td>5.8</td>\n",
              "      <td>5.9</td>\n",
              "      <td>48</td>\n",
              "      <td>136</td>\n",
              "      <td>1</td>\n",
              "      <td>0</td>\n",
              "      <td>0</td>\n",
              "      <td>0</td>\n",
              "      <td>0</td>\n",
              "      <td>0</td>\n",
              "      <td>0</td>\n",
              "      <td>0</td>\n",
              "      <td>0</td>\n",
              "      <td>0</td>\n",
              "      <td>0</td>\n",
              "      <td>0</td>\n",
              "      <td>0</td>\n",
              "      <td>0</td>\n",
              "      <td>0</td>\n",
              "      <td>0</td>\n",
              "      <td>0</td>\n",
              "      <td>0</td>\n",
              "      <td>0</td>\n",
              "      <td>0</td>\n",
              "      <td>0</td>\n",
              "      <td>0</td>\n",
              "      <td>0</td>\n",
              "      <td>0</td>\n",
              "      <td>0</td>\n",
              "      <td>0</td>\n",
              "      <td>0</td>\n",
              "      <td>0</td>\n",
              "      <td>0</td>\n",
              "      <td>0</td>\n",
              "      <td>0</td>\n",
              "      <td>0</td>\n",
              "      <td>0</td>\n",
              "      <td>1</td>\n",
              "      <td>0</td>\n",
              "      <td>0</td>\n",
              "      <td>0</td>\n",
              "      <td>0</td>\n",
              "      <td>0</td>\n",
              "      <td>0</td>\n",
              "      <td>0</td>\n",
              "      <td>1</td>\n",
              "    </tr>\n",
              "    <tr>\n",
              "      <th>3</th>\n",
              "      <td>3.5</td>\n",
              "      <td>6</td>\n",
              "      <td>12.7</td>\n",
              "      <td>9.1</td>\n",
              "      <td>11.1</td>\n",
              "      <td>25</td>\n",
              "      <td>255</td>\n",
              "      <td>0</td>\n",
              "      <td>0</td>\n",
              "      <td>0</td>\n",
              "      <td>0</td>\n",
              "      <td>0</td>\n",
              "      <td>0</td>\n",
              "      <td>0</td>\n",
              "      <td>0</td>\n",
              "      <td>0</td>\n",
              "      <td>0</td>\n",
              "      <td>0</td>\n",
              "      <td>1</td>\n",
              "      <td>0</td>\n",
              "      <td>0</td>\n",
              "      <td>0</td>\n",
              "      <td>0</td>\n",
              "      <td>0</td>\n",
              "      <td>0</td>\n",
              "      <td>0</td>\n",
              "      <td>0</td>\n",
              "      <td>0</td>\n",
              "      <td>0</td>\n",
              "      <td>0</td>\n",
              "      <td>0</td>\n",
              "      <td>0</td>\n",
              "      <td>0</td>\n",
              "      <td>0</td>\n",
              "      <td>1</td>\n",
              "      <td>0</td>\n",
              "      <td>0</td>\n",
              "      <td>0</td>\n",
              "      <td>0</td>\n",
              "      <td>0</td>\n",
              "      <td>0</td>\n",
              "      <td>0</td>\n",
              "      <td>0</td>\n",
              "      <td>0</td>\n",
              "      <td>0</td>\n",
              "      <td>0</td>\n",
              "      <td>0</td>\n",
              "      <td>0</td>\n",
              "      <td>1</td>\n",
              "    </tr>\n",
              "    <tr>\n",
              "      <th>4</th>\n",
              "      <td>3.5</td>\n",
              "      <td>6</td>\n",
              "      <td>12.1</td>\n",
              "      <td>8.7</td>\n",
              "      <td>10.6</td>\n",
              "      <td>27</td>\n",
              "      <td>244</td>\n",
              "      <td>0</td>\n",
              "      <td>0</td>\n",
              "      <td>0</td>\n",
              "      <td>0</td>\n",
              "      <td>0</td>\n",
              "      <td>0</td>\n",
              "      <td>0</td>\n",
              "      <td>0</td>\n",
              "      <td>0</td>\n",
              "      <td>0</td>\n",
              "      <td>0</td>\n",
              "      <td>1</td>\n",
              "      <td>0</td>\n",
              "      <td>0</td>\n",
              "      <td>0</td>\n",
              "      <td>0</td>\n",
              "      <td>0</td>\n",
              "      <td>0</td>\n",
              "      <td>0</td>\n",
              "      <td>0</td>\n",
              "      <td>0</td>\n",
              "      <td>0</td>\n",
              "      <td>0</td>\n",
              "      <td>0</td>\n",
              "      <td>0</td>\n",
              "      <td>0</td>\n",
              "      <td>0</td>\n",
              "      <td>1</td>\n",
              "      <td>0</td>\n",
              "      <td>0</td>\n",
              "      <td>0</td>\n",
              "      <td>0</td>\n",
              "      <td>0</td>\n",
              "      <td>0</td>\n",
              "      <td>0</td>\n",
              "      <td>0</td>\n",
              "      <td>0</td>\n",
              "      <td>0</td>\n",
              "      <td>0</td>\n",
              "      <td>0</td>\n",
              "      <td>0</td>\n",
              "      <td>1</td>\n",
              "    </tr>\n",
              "  </tbody>\n",
              "</table>\n",
              "</div>"
            ],
            "text/plain": [
              "   ENGINESIZE  CYLINDERS  ...  FUELTYPE_X  FUELTYPE_Z\n",
              "0         2.0          4  ...           0           1\n",
              "1         2.4          4  ...           0           1\n",
              "2         1.5          4  ...           0           1\n",
              "3         3.5          6  ...           0           1\n",
              "4         3.5          6  ...           0           1\n",
              "\n",
              "[5 rows x 49 columns]"
            ]
          },
          "metadata": {
            "tags": []
          },
          "execution_count": 9
        }
      ]
    },
    {
      "cell_type": "code",
      "metadata": {
        "id": "BpylImyRvKpN",
        "colab_type": "code",
        "colab": {
          "base_uri": "https://localhost:8080/",
          "height": 969
        },
        "outputId": "cf72a6d0-7e78-4928-de54-58c8b36cf219"
      },
      "source": [
        "\n",
        "fuelc.info()"
      ],
      "execution_count": 10,
      "outputs": [
        {
          "output_type": "stream",
          "text": [
            "<class 'pandas.core.frame.DataFrame'>\n",
            "RangeIndex: 1067 entries, 0 to 1066\n",
            "Data columns (total 49 columns):\n",
            " #   Column                                 Non-Null Count  Dtype  \n",
            "---  ------                                 --------------  -----  \n",
            " 0   ENGINESIZE                             1067 non-null   float64\n",
            " 1   CYLINDERS                              1067 non-null   int64  \n",
            " 2   FUELCONSUMPTION_CITY                   1067 non-null   float64\n",
            " 3   FUELCONSUMPTION_HWY                    1067 non-null   float64\n",
            " 4   FUELCONSUMPTION_COMB                   1067 non-null   float64\n",
            " 5   FUELCONSUMPTION_COMB_MPG               1067 non-null   int64  \n",
            " 6   CO2EMISSIONS                           1067 non-null   int64  \n",
            " 7   VEHICLECLASS_COMPACT                   1067 non-null   uint8  \n",
            " 8   VEHICLECLASS_FULL-SIZE                 1067 non-null   uint8  \n",
            " 9   VEHICLECLASS_MID-SIZE                  1067 non-null   uint8  \n",
            " 10  VEHICLECLASS_MINICOMPACT               1067 non-null   uint8  \n",
            " 11  VEHICLECLASS_MINIVAN                   1067 non-null   uint8  \n",
            " 12  VEHICLECLASS_PICKUP TRUCK - SMALL      1067 non-null   uint8  \n",
            " 13  VEHICLECLASS_PICKUP TRUCK - STANDARD   1067 non-null   uint8  \n",
            " 14  VEHICLECLASS_SPECIAL PURPOSE VEHICLE   1067 non-null   uint8  \n",
            " 15  VEHICLECLASS_STATION WAGON - MID-SIZE  1067 non-null   uint8  \n",
            " 16  VEHICLECLASS_STATION WAGON - SMALL     1067 non-null   uint8  \n",
            " 17  VEHICLECLASS_SUBCOMPACT                1067 non-null   uint8  \n",
            " 18  VEHICLECLASS_SUV - SMALL               1067 non-null   uint8  \n",
            " 19  VEHICLECLASS_SUV - STANDARD            1067 non-null   uint8  \n",
            " 20  VEHICLECLASS_TWO-SEATER                1067 non-null   uint8  \n",
            " 21  VEHICLECLASS_VAN - CARGO               1067 non-null   uint8  \n",
            " 22  VEHICLECLASS_VAN - PASSENGER           1067 non-null   uint8  \n",
            " 23  TRANSMISSION_A4                        1067 non-null   uint8  \n",
            " 24  TRANSMISSION_A5                        1067 non-null   uint8  \n",
            " 25  TRANSMISSION_A6                        1067 non-null   uint8  \n",
            " 26  TRANSMISSION_A7                        1067 non-null   uint8  \n",
            " 27  TRANSMISSION_A8                        1067 non-null   uint8  \n",
            " 28  TRANSMISSION_A9                        1067 non-null   uint8  \n",
            " 29  TRANSMISSION_AM5                       1067 non-null   uint8  \n",
            " 30  TRANSMISSION_AM6                       1067 non-null   uint8  \n",
            " 31  TRANSMISSION_AM7                       1067 non-null   uint8  \n",
            " 32  TRANSMISSION_AS4                       1067 non-null   uint8  \n",
            " 33  TRANSMISSION_AS5                       1067 non-null   uint8  \n",
            " 34  TRANSMISSION_AS6                       1067 non-null   uint8  \n",
            " 35  TRANSMISSION_AS7                       1067 non-null   uint8  \n",
            " 36  TRANSMISSION_AS8                       1067 non-null   uint8  \n",
            " 37  TRANSMISSION_AS9                       1067 non-null   uint8  \n",
            " 38  TRANSMISSION_AV                        1067 non-null   uint8  \n",
            " 39  TRANSMISSION_AV6                       1067 non-null   uint8  \n",
            " 40  TRANSMISSION_AV7                       1067 non-null   uint8  \n",
            " 41  TRANSMISSION_AV8                       1067 non-null   uint8  \n",
            " 42  TRANSMISSION_M5                        1067 non-null   uint8  \n",
            " 43  TRANSMISSION_M6                        1067 non-null   uint8  \n",
            " 44  TRANSMISSION_M7                        1067 non-null   uint8  \n",
            " 45  FUELTYPE_D                             1067 non-null   uint8  \n",
            " 46  FUELTYPE_E                             1067 non-null   uint8  \n",
            " 47  FUELTYPE_X                             1067 non-null   uint8  \n",
            " 48  FUELTYPE_Z                             1067 non-null   uint8  \n",
            "dtypes: float64(4), int64(3), uint8(42)\n",
            "memory usage: 102.2 KB\n"
          ],
          "name": "stdout"
        }
      ]
    },
    {
      "cell_type": "code",
      "metadata": {
        "id": "qklbyzTevL7W",
        "colab_type": "code",
        "colab": {
          "base_uri": "https://localhost:8080/",
          "height": 241
        },
        "outputId": "194a4398-ad81-406b-c98c-19d800a0bee8"
      },
      "source": [
        "\n",
        "X = fuelc.drop('CO2EMISSIONS', axis = 1)\n",
        "X.head()"
      ],
      "execution_count": 11,
      "outputs": [
        {
          "output_type": "execute_result",
          "data": {
            "text/html": [
              "<div>\n",
              "<style scoped>\n",
              "    .dataframe tbody tr th:only-of-type {\n",
              "        vertical-align: middle;\n",
              "    }\n",
              "\n",
              "    .dataframe tbody tr th {\n",
              "        vertical-align: top;\n",
              "    }\n",
              "\n",
              "    .dataframe thead th {\n",
              "        text-align: right;\n",
              "    }\n",
              "</style>\n",
              "<table border=\"1\" class=\"dataframe\">\n",
              "  <thead>\n",
              "    <tr style=\"text-align: right;\">\n",
              "      <th></th>\n",
              "      <th>ENGINESIZE</th>\n",
              "      <th>CYLINDERS</th>\n",
              "      <th>FUELCONSUMPTION_CITY</th>\n",
              "      <th>FUELCONSUMPTION_HWY</th>\n",
              "      <th>FUELCONSUMPTION_COMB</th>\n",
              "      <th>FUELCONSUMPTION_COMB_MPG</th>\n",
              "      <th>VEHICLECLASS_COMPACT</th>\n",
              "      <th>VEHICLECLASS_FULL-SIZE</th>\n",
              "      <th>VEHICLECLASS_MID-SIZE</th>\n",
              "      <th>VEHICLECLASS_MINICOMPACT</th>\n",
              "      <th>VEHICLECLASS_MINIVAN</th>\n",
              "      <th>VEHICLECLASS_PICKUP TRUCK - SMALL</th>\n",
              "      <th>VEHICLECLASS_PICKUP TRUCK - STANDARD</th>\n",
              "      <th>VEHICLECLASS_SPECIAL PURPOSE VEHICLE</th>\n",
              "      <th>VEHICLECLASS_STATION WAGON - MID-SIZE</th>\n",
              "      <th>VEHICLECLASS_STATION WAGON - SMALL</th>\n",
              "      <th>VEHICLECLASS_SUBCOMPACT</th>\n",
              "      <th>VEHICLECLASS_SUV - SMALL</th>\n",
              "      <th>VEHICLECLASS_SUV - STANDARD</th>\n",
              "      <th>VEHICLECLASS_TWO-SEATER</th>\n",
              "      <th>VEHICLECLASS_VAN - CARGO</th>\n",
              "      <th>VEHICLECLASS_VAN - PASSENGER</th>\n",
              "      <th>TRANSMISSION_A4</th>\n",
              "      <th>TRANSMISSION_A5</th>\n",
              "      <th>TRANSMISSION_A6</th>\n",
              "      <th>TRANSMISSION_A7</th>\n",
              "      <th>TRANSMISSION_A8</th>\n",
              "      <th>TRANSMISSION_A9</th>\n",
              "      <th>TRANSMISSION_AM5</th>\n",
              "      <th>TRANSMISSION_AM6</th>\n",
              "      <th>TRANSMISSION_AM7</th>\n",
              "      <th>TRANSMISSION_AS4</th>\n",
              "      <th>TRANSMISSION_AS5</th>\n",
              "      <th>TRANSMISSION_AS6</th>\n",
              "      <th>TRANSMISSION_AS7</th>\n",
              "      <th>TRANSMISSION_AS8</th>\n",
              "      <th>TRANSMISSION_AS9</th>\n",
              "      <th>TRANSMISSION_AV</th>\n",
              "      <th>TRANSMISSION_AV6</th>\n",
              "      <th>TRANSMISSION_AV7</th>\n",
              "      <th>TRANSMISSION_AV8</th>\n",
              "      <th>TRANSMISSION_M5</th>\n",
              "      <th>TRANSMISSION_M6</th>\n",
              "      <th>TRANSMISSION_M7</th>\n",
              "      <th>FUELTYPE_D</th>\n",
              "      <th>FUELTYPE_E</th>\n",
              "      <th>FUELTYPE_X</th>\n",
              "      <th>FUELTYPE_Z</th>\n",
              "    </tr>\n",
              "  </thead>\n",
              "  <tbody>\n",
              "    <tr>\n",
              "      <th>0</th>\n",
              "      <td>2.0</td>\n",
              "      <td>4</td>\n",
              "      <td>9.9</td>\n",
              "      <td>6.7</td>\n",
              "      <td>8.5</td>\n",
              "      <td>33</td>\n",
              "      <td>1</td>\n",
              "      <td>0</td>\n",
              "      <td>0</td>\n",
              "      <td>0</td>\n",
              "      <td>0</td>\n",
              "      <td>0</td>\n",
              "      <td>0</td>\n",
              "      <td>0</td>\n",
              "      <td>0</td>\n",
              "      <td>0</td>\n",
              "      <td>0</td>\n",
              "      <td>0</td>\n",
              "      <td>0</td>\n",
              "      <td>0</td>\n",
              "      <td>0</td>\n",
              "      <td>0</td>\n",
              "      <td>0</td>\n",
              "      <td>0</td>\n",
              "      <td>0</td>\n",
              "      <td>0</td>\n",
              "      <td>0</td>\n",
              "      <td>0</td>\n",
              "      <td>0</td>\n",
              "      <td>0</td>\n",
              "      <td>0</td>\n",
              "      <td>0</td>\n",
              "      <td>1</td>\n",
              "      <td>0</td>\n",
              "      <td>0</td>\n",
              "      <td>0</td>\n",
              "      <td>0</td>\n",
              "      <td>0</td>\n",
              "      <td>0</td>\n",
              "      <td>0</td>\n",
              "      <td>0</td>\n",
              "      <td>0</td>\n",
              "      <td>0</td>\n",
              "      <td>0</td>\n",
              "      <td>0</td>\n",
              "      <td>0</td>\n",
              "      <td>0</td>\n",
              "      <td>1</td>\n",
              "    </tr>\n",
              "    <tr>\n",
              "      <th>1</th>\n",
              "      <td>2.4</td>\n",
              "      <td>4</td>\n",
              "      <td>11.2</td>\n",
              "      <td>7.7</td>\n",
              "      <td>9.6</td>\n",
              "      <td>29</td>\n",
              "      <td>1</td>\n",
              "      <td>0</td>\n",
              "      <td>0</td>\n",
              "      <td>0</td>\n",
              "      <td>0</td>\n",
              "      <td>0</td>\n",
              "      <td>0</td>\n",
              "      <td>0</td>\n",
              "      <td>0</td>\n",
              "      <td>0</td>\n",
              "      <td>0</td>\n",
              "      <td>0</td>\n",
              "      <td>0</td>\n",
              "      <td>0</td>\n",
              "      <td>0</td>\n",
              "      <td>0</td>\n",
              "      <td>0</td>\n",
              "      <td>0</td>\n",
              "      <td>0</td>\n",
              "      <td>0</td>\n",
              "      <td>0</td>\n",
              "      <td>0</td>\n",
              "      <td>0</td>\n",
              "      <td>0</td>\n",
              "      <td>0</td>\n",
              "      <td>0</td>\n",
              "      <td>0</td>\n",
              "      <td>0</td>\n",
              "      <td>0</td>\n",
              "      <td>0</td>\n",
              "      <td>0</td>\n",
              "      <td>0</td>\n",
              "      <td>0</td>\n",
              "      <td>0</td>\n",
              "      <td>0</td>\n",
              "      <td>0</td>\n",
              "      <td>1</td>\n",
              "      <td>0</td>\n",
              "      <td>0</td>\n",
              "      <td>0</td>\n",
              "      <td>0</td>\n",
              "      <td>1</td>\n",
              "    </tr>\n",
              "    <tr>\n",
              "      <th>2</th>\n",
              "      <td>1.5</td>\n",
              "      <td>4</td>\n",
              "      <td>6.0</td>\n",
              "      <td>5.8</td>\n",
              "      <td>5.9</td>\n",
              "      <td>48</td>\n",
              "      <td>1</td>\n",
              "      <td>0</td>\n",
              "      <td>0</td>\n",
              "      <td>0</td>\n",
              "      <td>0</td>\n",
              "      <td>0</td>\n",
              "      <td>0</td>\n",
              "      <td>0</td>\n",
              "      <td>0</td>\n",
              "      <td>0</td>\n",
              "      <td>0</td>\n",
              "      <td>0</td>\n",
              "      <td>0</td>\n",
              "      <td>0</td>\n",
              "      <td>0</td>\n",
              "      <td>0</td>\n",
              "      <td>0</td>\n",
              "      <td>0</td>\n",
              "      <td>0</td>\n",
              "      <td>0</td>\n",
              "      <td>0</td>\n",
              "      <td>0</td>\n",
              "      <td>0</td>\n",
              "      <td>0</td>\n",
              "      <td>0</td>\n",
              "      <td>0</td>\n",
              "      <td>0</td>\n",
              "      <td>0</td>\n",
              "      <td>0</td>\n",
              "      <td>0</td>\n",
              "      <td>0</td>\n",
              "      <td>0</td>\n",
              "      <td>0</td>\n",
              "      <td>1</td>\n",
              "      <td>0</td>\n",
              "      <td>0</td>\n",
              "      <td>0</td>\n",
              "      <td>0</td>\n",
              "      <td>0</td>\n",
              "      <td>0</td>\n",
              "      <td>0</td>\n",
              "      <td>1</td>\n",
              "    </tr>\n",
              "    <tr>\n",
              "      <th>3</th>\n",
              "      <td>3.5</td>\n",
              "      <td>6</td>\n",
              "      <td>12.7</td>\n",
              "      <td>9.1</td>\n",
              "      <td>11.1</td>\n",
              "      <td>25</td>\n",
              "      <td>0</td>\n",
              "      <td>0</td>\n",
              "      <td>0</td>\n",
              "      <td>0</td>\n",
              "      <td>0</td>\n",
              "      <td>0</td>\n",
              "      <td>0</td>\n",
              "      <td>0</td>\n",
              "      <td>0</td>\n",
              "      <td>0</td>\n",
              "      <td>0</td>\n",
              "      <td>1</td>\n",
              "      <td>0</td>\n",
              "      <td>0</td>\n",
              "      <td>0</td>\n",
              "      <td>0</td>\n",
              "      <td>0</td>\n",
              "      <td>0</td>\n",
              "      <td>0</td>\n",
              "      <td>0</td>\n",
              "      <td>0</td>\n",
              "      <td>0</td>\n",
              "      <td>0</td>\n",
              "      <td>0</td>\n",
              "      <td>0</td>\n",
              "      <td>0</td>\n",
              "      <td>0</td>\n",
              "      <td>1</td>\n",
              "      <td>0</td>\n",
              "      <td>0</td>\n",
              "      <td>0</td>\n",
              "      <td>0</td>\n",
              "      <td>0</td>\n",
              "      <td>0</td>\n",
              "      <td>0</td>\n",
              "      <td>0</td>\n",
              "      <td>0</td>\n",
              "      <td>0</td>\n",
              "      <td>0</td>\n",
              "      <td>0</td>\n",
              "      <td>0</td>\n",
              "      <td>1</td>\n",
              "    </tr>\n",
              "    <tr>\n",
              "      <th>4</th>\n",
              "      <td>3.5</td>\n",
              "      <td>6</td>\n",
              "      <td>12.1</td>\n",
              "      <td>8.7</td>\n",
              "      <td>10.6</td>\n",
              "      <td>27</td>\n",
              "      <td>0</td>\n",
              "      <td>0</td>\n",
              "      <td>0</td>\n",
              "      <td>0</td>\n",
              "      <td>0</td>\n",
              "      <td>0</td>\n",
              "      <td>0</td>\n",
              "      <td>0</td>\n",
              "      <td>0</td>\n",
              "      <td>0</td>\n",
              "      <td>0</td>\n",
              "      <td>1</td>\n",
              "      <td>0</td>\n",
              "      <td>0</td>\n",
              "      <td>0</td>\n",
              "      <td>0</td>\n",
              "      <td>0</td>\n",
              "      <td>0</td>\n",
              "      <td>0</td>\n",
              "      <td>0</td>\n",
              "      <td>0</td>\n",
              "      <td>0</td>\n",
              "      <td>0</td>\n",
              "      <td>0</td>\n",
              "      <td>0</td>\n",
              "      <td>0</td>\n",
              "      <td>0</td>\n",
              "      <td>1</td>\n",
              "      <td>0</td>\n",
              "      <td>0</td>\n",
              "      <td>0</td>\n",
              "      <td>0</td>\n",
              "      <td>0</td>\n",
              "      <td>0</td>\n",
              "      <td>0</td>\n",
              "      <td>0</td>\n",
              "      <td>0</td>\n",
              "      <td>0</td>\n",
              "      <td>0</td>\n",
              "      <td>0</td>\n",
              "      <td>0</td>\n",
              "      <td>1</td>\n",
              "    </tr>\n",
              "  </tbody>\n",
              "</table>\n",
              "</div>"
            ],
            "text/plain": [
              "   ENGINESIZE  CYLINDERS  ...  FUELTYPE_X  FUELTYPE_Z\n",
              "0         2.0          4  ...           0           1\n",
              "1         2.4          4  ...           0           1\n",
              "2         1.5          4  ...           0           1\n",
              "3         3.5          6  ...           0           1\n",
              "4         3.5          6  ...           0           1\n",
              "\n",
              "[5 rows x 48 columns]"
            ]
          },
          "metadata": {
            "tags": []
          },
          "execution_count": 11
        }
      ]
    },
    {
      "cell_type": "code",
      "metadata": {
        "id": "rkRe708svNbH",
        "colab_type": "code",
        "colab": {
          "base_uri": "https://localhost:8080/",
          "height": 119
        },
        "outputId": "5633d618-e386-4edd-c159-99b966c6b4a7"
      },
      "source": [
        "Y = fuelc['CO2EMISSIONS']\n",
        "Y.head()"
      ],
      "execution_count": 12,
      "outputs": [
        {
          "output_type": "execute_result",
          "data": {
            "text/plain": [
              "0    196\n",
              "1    221\n",
              "2    136\n",
              "3    255\n",
              "4    244\n",
              "Name: CO2EMISSIONS, dtype: int64"
            ]
          },
          "metadata": {
            "tags": []
          },
          "execution_count": 12
        }
      ]
    },
    {
      "cell_type": "code",
      "metadata": {
        "id": "d6bujW3-vP4T",
        "colab_type": "code",
        "colab": {}
      },
      "source": [
        "seed = 8\n",
        "test_size = 0.2\n",
        "X_train, X_test, y_train, y_test = train_test_split(X, Y, test_size=test_size, random_state=seed)"
      ],
      "execution_count": 13,
      "outputs": []
    },
    {
      "cell_type": "code",
      "metadata": {
        "id": "yfS4oxapvRyN",
        "colab_type": "code",
        "colab": {
          "base_uri": "https://localhost:8080/",
          "height": 85
        },
        "outputId": "70ffc1a2-b5fd-4f9a-97f8-37ebc2d4576d"
      },
      "source": [
        "print('Train Shape: ', X_train.shape)\n",
        "print('Test Shape: ', X_test.shape)\n",
        "print('Train Shape: ', y_train.shape)\n",
        "print('Test Shape: ', y_test.shape)"
      ],
      "execution_count": 14,
      "outputs": [
        {
          "output_type": "stream",
          "text": [
            "Train Shape:  (853, 48)\n",
            "Test Shape:  (214, 48)\n",
            "Train Shape:  (853,)\n",
            "Test Shape:  (214,)\n"
          ],
          "name": "stdout"
        }
      ]
    },
    {
      "cell_type": "code",
      "metadata": {
        "id": "JkYievasvTJA",
        "colab_type": "code",
        "colab": {}
      },
      "source": [
        "linear = linear_model.LinearRegression()\n",
        "ridge = linear_model.Ridge()\n",
        "lasso= linear_model.Lasso()\n",
        "elastic = linear_model.ElasticNet()\n",
        "lasso_lars = linear_model.LassoLars()\n",
        "bayes_ridge = linear_model.BayesianRidge()\n",
        "\n",
        "models_churn = [linear, ridge, lasso, elastic, lasso_lars, bayes_ridge]"
      ],
      "execution_count": 15,
      "outputs": []
    },
    {
      "cell_type": "code",
      "metadata": {
        "id": "VSdhkZ5UvUlf",
        "colab_type": "code",
        "colab": {}
      },
      "source": [
        "def get_cv_scores(model):\n",
        "    scores = cross_val_score(model, X_train, y_train, cv=5, scoring='r2')\n",
        "    print('CV Mean: ', np.mean(scores))\n",
        "    print('STD: ', np.std(scores))\n",
        "    print('\\n')"
      ],
      "execution_count": 16,
      "outputs": []
    },
    {
      "cell_type": "code",
      "metadata": {
        "id": "C2SeYR3nvWNH",
        "colab_type": "code",
        "colab": {
          "base_uri": "https://localhost:8080/",
          "height": 697
        },
        "outputId": "e97c996a-d131-4fa8-e3a5-aaffccdf066c"
      },
      "source": [
        "for i in models_churn:\n",
        "    print(i)\n",
        "    get_cv_scores(i)"
      ],
      "execution_count": 17,
      "outputs": [
        {
          "output_type": "stream",
          "text": [
            "LinearRegression(copy_X=True, fit_intercept=True, n_jobs=None, normalize=False)\n",
            "CV Mean:  0.9921125917001371\n",
            "STD:  0.0007450708600769237\n",
            "\n",
            "\n",
            "Ridge(alpha=1.0, copy_X=True, fit_intercept=True, max_iter=None,\n",
            "      normalize=False, random_state=None, solver='auto', tol=0.001)\n",
            "CV Mean:  0.9918399771112736\n",
            "STD:  0.0007181078607131842\n",
            "\n",
            "\n",
            "Lasso(alpha=1.0, copy_X=True, fit_intercept=True, max_iter=1000,\n",
            "      normalize=False, positive=False, precompute=False, random_state=None,\n",
            "      selection='cyclic', tol=0.0001, warm_start=False)\n",
            "CV Mean:  0.9773044192295819\n",
            "STD:  0.004006602774428582\n",
            "\n",
            "\n",
            "ElasticNet(alpha=1.0, copy_X=True, fit_intercept=True, l1_ratio=0.5,\n",
            "           max_iter=1000, normalize=False, positive=False, precompute=False,\n",
            "           random_state=None, selection='cyclic', tol=0.0001, warm_start=False)\n",
            "CV Mean:  0.8975642512767482\n",
            "STD:  0.011560892627569456\n",
            "\n",
            "\n",
            "LassoLars(alpha=1.0, copy_X=True, eps=2.220446049250313e-16, fit_intercept=True,\n",
            "          fit_path=True, max_iter=500, normalize=True, positive=False,\n",
            "          precompute='auto', verbose=False)\n",
            "CV Mean:  0.6940765914166501\n",
            "STD:  0.02063921955572581\n",
            "\n",
            "\n",
            "BayesianRidge(alpha_1=1e-06, alpha_2=1e-06, alpha_init=None,\n",
            "              compute_score=False, copy_X=True, fit_intercept=True,\n",
            "              lambda_1=1e-06, lambda_2=1e-06, lambda_init=None, n_iter=300,\n",
            "              normalize=False, tol=0.001, verbose=False)\n",
            "CV Mean:  0.9921034284042634\n",
            "STD:  0.0007251868739567206\n",
            "\n",
            "\n"
          ],
          "name": "stdout"
        }
      ]
    },
    {
      "cell_type": "code",
      "metadata": {
        "id": "YVVVRKSXvXol",
        "colab_type": "code",
        "colab": {}
      },
      "source": [
        "alpha = [0.5, 1, 1.5, 0.01, 2.5, 0.0001, 10, 100, 0.35]\n",
        "solver = ['auto', 'svd']\n",
        "\n",
        "param_grid = dict(alpha = alpha, solver = solver)"
      ],
      "execution_count": 18,
      "outputs": []
    },
    {
      "cell_type": "code",
      "metadata": {
        "id": "v8Q3OHlsvZhw",
        "colab_type": "code",
        "colab": {}
      },
      "source": [
        "grids = GridSearchCV(estimator = ridge, param_grid = param_grid, scoring = 'r2', cv = 10)\n",
        "grid_result = grids.fit(X_train, y_train)"
      ],
      "execution_count": 19,
      "outputs": []
    },
    {
      "cell_type": "code",
      "metadata": {
        "id": "2O0eTu9tvbCH",
        "colab_type": "code",
        "colab": {}
      },
      "source": [
        "rnds = RandomizedSearchCV(estimator = ridge, param_distributions = param_grid, scoring='r2', cv = 10)\n",
        "rnds_result = rnds.fit(X_train, y_train)"
      ],
      "execution_count": 20,
      "outputs": []
    },
    {
      "cell_type": "code",
      "metadata": {
        "id": "GeF2jPI-vcma",
        "colab_type": "code",
        "colab": {
          "base_uri": "https://localhost:8080/",
          "height": 85
        },
        "outputId": "f9aaafb4-159f-4ca9-c686-76bf2cea9c1a"
      },
      "source": [
        "#best score\n",
        "print('best score for grid:', grid_result.best_score_)\n",
        "print('best score for random:',rnds_result.best_score_)\n",
        "#parameters that give best score\n",
        "print('best list of hyper-params for grid:', grid_result.best_params_)\n",
        "print('best list of hyper-params for random:',rnds_result.best_params_)"
      ],
      "execution_count": 21,
      "outputs": [
        {
          "output_type": "stream",
          "text": [
            "best score for grid: 0.9921217477730362\n",
            "best score for random: 0.9921217477730362\n",
            "best list of hyper-params for grid: {'alpha': 0.01, 'solver': 'svd'}\n",
            "best list of hyper-params for random: {'solver': 'svd', 'alpha': 0.01}\n"
          ],
          "name": "stdout"
        }
      ]
    },
    {
      "cell_type": "code",
      "metadata": {
        "id": "eL8wpq4aveXe",
        "colab_type": "code",
        "colab": {}
      },
      "source": [
        "#apply best model\n",
        "from sklearn import linear_model\n",
        "bayes_ridge = linear_model.BayesianRidge()"
      ],
      "execution_count": 22,
      "outputs": []
    },
    {
      "cell_type": "code",
      "metadata": {
        "id": "B7uTE-hDvfqY",
        "colab_type": "code",
        "colab": {
          "base_uri": "https://localhost:8080/",
          "height": 51
        },
        "outputId": "e33057d4-6ed3-4eec-f0b9-bed54ba68b60"
      },
      "source": [
        "from sklearn.metrics import r2_score\n",
        "bayes_ridge.fit(X_train, y_train)\n",
        "y_train_pred = bayes_ridge.predict(X_train)\n",
        "accuracy_train = r2_score(y_train, y_train_pred)\n",
        "print(\"Train accuracy: \",accuracy_train*100,\"%\")\n",
        "y_pred = bayes_ridge.predict(X_test)\n",
        "accuracy_test = r2_score(y_test, y_pred)\n",
        "print(\"Test Accuracy: \",accuracy_test*100,\"%\")"
      ],
      "execution_count": 23,
      "outputs": [
        {
          "output_type": "stream",
          "text": [
            "Train accuracy:  99.32431740832742 %\n",
            "Test Accuracy:  99.1997043143234 %\n"
          ],
          "name": "stdout"
        }
      ]
    },
    {
      "cell_type": "code",
      "metadata": {
        "id": "i4eiQdp2vhMG",
        "colab_type": "code",
        "colab": {
          "base_uri": "https://localhost:8080/",
          "height": 204
        },
        "outputId": "c7355d2b-653a-4591-dd61-7a1656c7206e"
      },
      "source": [
        "\n",
        "import numpy as np\n",
        "import pandas as pd\n",
        "from sklearn.datasets import load_iris\n",
        "\n",
        "iris = load_iris()\n",
        "data = np.c_[iris.data, iris.target]\n",
        "columns = np.append(iris.feature_names, [\"target\"])\n",
        "iris2 = pd.DataFrame(data, columns=columns)\n",
        "iris2.head()"
      ],
      "execution_count": 24,
      "outputs": [
        {
          "output_type": "execute_result",
          "data": {
            "text/html": [
              "<div>\n",
              "<style scoped>\n",
              "    .dataframe tbody tr th:only-of-type {\n",
              "        vertical-align: middle;\n",
              "    }\n",
              "\n",
              "    .dataframe tbody tr th {\n",
              "        vertical-align: top;\n",
              "    }\n",
              "\n",
              "    .dataframe thead th {\n",
              "        text-align: right;\n",
              "    }\n",
              "</style>\n",
              "<table border=\"1\" class=\"dataframe\">\n",
              "  <thead>\n",
              "    <tr style=\"text-align: right;\">\n",
              "      <th></th>\n",
              "      <th>sepal length (cm)</th>\n",
              "      <th>sepal width (cm)</th>\n",
              "      <th>petal length (cm)</th>\n",
              "      <th>petal width (cm)</th>\n",
              "      <th>target</th>\n",
              "    </tr>\n",
              "  </thead>\n",
              "  <tbody>\n",
              "    <tr>\n",
              "      <th>0</th>\n",
              "      <td>5.1</td>\n",
              "      <td>3.5</td>\n",
              "      <td>1.4</td>\n",
              "      <td>0.2</td>\n",
              "      <td>0.0</td>\n",
              "    </tr>\n",
              "    <tr>\n",
              "      <th>1</th>\n",
              "      <td>4.9</td>\n",
              "      <td>3.0</td>\n",
              "      <td>1.4</td>\n",
              "      <td>0.2</td>\n",
              "      <td>0.0</td>\n",
              "    </tr>\n",
              "    <tr>\n",
              "      <th>2</th>\n",
              "      <td>4.7</td>\n",
              "      <td>3.2</td>\n",
              "      <td>1.3</td>\n",
              "      <td>0.2</td>\n",
              "      <td>0.0</td>\n",
              "    </tr>\n",
              "    <tr>\n",
              "      <th>3</th>\n",
              "      <td>4.6</td>\n",
              "      <td>3.1</td>\n",
              "      <td>1.5</td>\n",
              "      <td>0.2</td>\n",
              "      <td>0.0</td>\n",
              "    </tr>\n",
              "    <tr>\n",
              "      <th>4</th>\n",
              "      <td>5.0</td>\n",
              "      <td>3.6</td>\n",
              "      <td>1.4</td>\n",
              "      <td>0.2</td>\n",
              "      <td>0.0</td>\n",
              "    </tr>\n",
              "  </tbody>\n",
              "</table>\n",
              "</div>"
            ],
            "text/plain": [
              "   sepal length (cm)  sepal width (cm)  ...  petal width (cm)  target\n",
              "0                5.1               3.5  ...               0.2     0.0\n",
              "1                4.9               3.0  ...               0.2     0.0\n",
              "2                4.7               3.2  ...               0.2     0.0\n",
              "3                4.6               3.1  ...               0.2     0.0\n",
              "4                5.0               3.6  ...               0.2     0.0\n",
              "\n",
              "[5 rows x 5 columns]"
            ]
          },
          "metadata": {
            "tags": []
          },
          "execution_count": 24
        }
      ]
    },
    {
      "cell_type": "code",
      "metadata": {
        "id": "f9_LYoiEvinM",
        "colab_type": "code",
        "colab": {
          "base_uri": "https://localhost:8080/",
          "height": 221
        },
        "outputId": "e5e443e8-19ab-4cc6-b1da-ffc564a44648"
      },
      "source": [
        "iris2.info()"
      ],
      "execution_count": 25,
      "outputs": [
        {
          "output_type": "stream",
          "text": [
            "<class 'pandas.core.frame.DataFrame'>\n",
            "RangeIndex: 150 entries, 0 to 149\n",
            "Data columns (total 5 columns):\n",
            " #   Column             Non-Null Count  Dtype  \n",
            "---  ------             --------------  -----  \n",
            " 0   sepal length (cm)  150 non-null    float64\n",
            " 1   sepal width (cm)   150 non-null    float64\n",
            " 2   petal length (cm)  150 non-null    float64\n",
            " 3   petal width (cm)   150 non-null    float64\n",
            " 4   target             150 non-null    float64\n",
            "dtypes: float64(5)\n",
            "memory usage: 6.0 KB\n"
          ],
          "name": "stdout"
        }
      ]
    },
    {
      "cell_type": "code",
      "metadata": {
        "id": "xIwiN3mRvj9Y",
        "colab_type": "code",
        "colab": {
          "base_uri": "https://localhost:8080/",
          "height": 238
        },
        "outputId": "9a2016ae-804e-44b2-913c-30f6dbd7ba5e"
      },
      "source": [
        "X = iris2.iloc[:,0:4]\n",
        "iris2['target'] = pd.Categorical(pd.factorize(iris2['target'])[0])\n",
        "Y = iris2['target']\n",
        "print(X.head())\n",
        "print(Y.head())\n",
        "from sklearn import preprocessing\n",
        "le = preprocessing.LabelEncoder()\n",
        "le.fit(iris2['target'].unique())\n",
        "Y = le.transform(Y)"
      ],
      "execution_count": 26,
      "outputs": [
        {
          "output_type": "stream",
          "text": [
            "   sepal length (cm)  sepal width (cm)  petal length (cm)  petal width (cm)\n",
            "0                5.1               3.5                1.4               0.2\n",
            "1                4.9               3.0                1.4               0.2\n",
            "2                4.7               3.2                1.3               0.2\n",
            "3                4.6               3.1                1.5               0.2\n",
            "4                5.0               3.6                1.4               0.2\n",
            "0    0\n",
            "1    0\n",
            "2    0\n",
            "3    0\n",
            "4    0\n",
            "Name: target, dtype: category\n",
            "Categories (3, int64): [0, 1, 2]\n"
          ],
          "name": "stdout"
        }
      ]
    },
    {
      "cell_type": "code",
      "metadata": {
        "id": "75dKF9MjvlbU",
        "colab_type": "code",
        "colab": {}
      },
      "source": [
        "from sklearn.model_selection import train_test_split, cross_val_score\n",
        "from sklearn.preprocessing import StandardScaler\n",
        "seed = 8\n",
        "test_size = 0.2\n",
        "x_train, x_test, y_train, y_test = train_test_split(X, Y, test_size=test_size, random_state=seed)"
      ],
      "execution_count": 27,
      "outputs": []
    },
    {
      "cell_type": "code",
      "metadata": {
        "id": "GiHSXoGPvnbQ",
        "colab_type": "code",
        "colab": {}
      },
      "source": [
        "from sklearn import linear_model\n",
        "from sklearn.model_selection import GridSearchCV, RandomizedSearchCV\n",
        "logistics = linear_model.LogisticRegression()\n",
        "sgd = linear_model.SGDClassifier()\n",
        "passagg = linear_model.PassiveAggressiveClassifier()\n",
        "ridgecv = linear_model.RidgeClassifierCV()\n",
        "ridgeclass = linear_model.RidgeClassifier()"
      ],
      "execution_count": 28,
      "outputs": []
    },
    {
      "cell_type": "code",
      "metadata": {
        "id": "M9AeR4TkvpHY",
        "colab_type": "code",
        "colab": {}
      },
      "source": [
        "models_churn = [logistics,sgd,passagg,ridgecv,ridgeclass]"
      ],
      "execution_count": 29,
      "outputs": []
    },
    {
      "cell_type": "code",
      "metadata": {
        "id": "ypNAYLCsvqs2",
        "colab_type": "code",
        "colab": {}
      },
      "source": [
        "def get_cv_scores(model):\n",
        "    scores = cross_val_score(model, x_train, y_train, cv=5, scoring='accuracy')\n",
        "    print('CV Mean: ', np.mean(scores))\n",
        "    print('STD: ', np.std(scores))\n",
        "    print('\\n')"
      ],
      "execution_count": 30,
      "outputs": []
    },
    {
      "cell_type": "code",
      "metadata": {
        "id": "Ed5SnbtovtrU",
        "colab_type": "code",
        "colab": {
          "base_uri": "https://localhost:8080/",
          "height": 748
        },
        "outputId": "9fda9a18-b409-4493-9129-7fb24d8e9e44"
      },
      "source": [
        "for i in models_churn:\n",
        "    print(i)\n",
        "    get_cv_scores(i)"
      ],
      "execution_count": 31,
      "outputs": [
        {
          "output_type": "stream",
          "text": [
            "LogisticRegression(C=1.0, class_weight=None, dual=False, fit_intercept=True,\n",
            "                   intercept_scaling=1, l1_ratio=None, max_iter=100,\n",
            "                   multi_class='auto', n_jobs=None, penalty='l2',\n",
            "                   random_state=None, solver='lbfgs', tol=0.0001, verbose=0,\n",
            "                   warm_start=False)\n",
            "CV Mean:  0.975\n",
            "STD:  0.02041241452319313\n",
            "\n",
            "\n",
            "SGDClassifier(alpha=0.0001, average=False, class_weight=None,\n",
            "              early_stopping=False, epsilon=0.1, eta0=0.0, fit_intercept=True,\n",
            "              l1_ratio=0.15, learning_rate='optimal', loss='hinge',\n",
            "              max_iter=1000, n_iter_no_change=5, n_jobs=None, penalty='l2',\n",
            "              power_t=0.5, random_state=None, shuffle=True, tol=0.001,\n",
            "              validation_fraction=0.1, verbose=0, warm_start=False)\n",
            "CV Mean:  0.7666666666666666\n",
            "STD:  0.12527746981977422\n",
            "\n",
            "\n",
            "PassiveAggressiveClassifier(C=1.0, average=False, class_weight=None,\n",
            "                            early_stopping=False, fit_intercept=True,\n",
            "                            loss='hinge', max_iter=1000, n_iter_no_change=5,\n",
            "                            n_jobs=None, random_state=None, shuffle=True,\n",
            "                            tol=0.001, validation_fraction=0.1, verbose=0,\n",
            "                            warm_start=False)\n",
            "CV Mean:  0.9166666666666666\n",
            "STD:  0.026352313834736508\n",
            "\n",
            "\n",
            "RidgeClassifierCV(alphas=array([ 0.1,  1. , 10. ]), class_weight=None, cv=None,\n",
            "                  fit_intercept=True, normalize=False, scoring=None,\n",
            "                  store_cv_values=False)\n",
            "CV Mean:  0.8666666666666666\n",
            "STD:  0.06666666666666665\n",
            "\n",
            "\n",
            "RidgeClassifier(alpha=1.0, class_weight=None, copy_X=True, fit_intercept=True,\n",
            "                max_iter=None, normalize=False, random_state=None,\n",
            "                solver='auto', tol=0.001)\n",
            "CV Mean:  0.8666666666666666\n",
            "STD:  0.06666666666666665\n",
            "\n",
            "\n"
          ],
          "name": "stdout"
        }
      ]
    },
    {
      "cell_type": "code",
      "metadata": {
        "id": "g6nsYDDHvvKo",
        "colab_type": "code",
        "colab": {
          "base_uri": "https://localhost:8080/",
          "height": 68
        },
        "outputId": "3a9a5f32-5632-4eb6-a499-02e4bbf12dcb"
      },
      "source": [
        "penalty = ['l1', 'l2']\n",
        "C = [0.0001, 0.001, 0.01]\n",
        "class_weight = [{1:0.5, 0:0.5}, {1:0.6, 0:0.4}]\n",
        "solver = ['liblinear', 'saga'] \n",
        "\n",
        "paramgrid = dict(penalty=penalty, C=C, class_weight=class_weight, solver=solver)\n",
        "\n",
        "grid = GridSearchCV(estimator=logistics, param_grid=paramgrid, scoring='accuracy', verbose=1, n_jobs=-1)\n",
        "grid_result = grid.fit(x_train, y_train)"
      ],
      "execution_count": 32,
      "outputs": [
        {
          "output_type": "stream",
          "text": [
            "Fitting 5 folds for each of 24 candidates, totalling 120 fits\n"
          ],
          "name": "stdout"
        },
        {
          "output_type": "stream",
          "text": [
            "[Parallel(n_jobs=-1)]: Using backend LokyBackend with 2 concurrent workers.\n",
            "[Parallel(n_jobs=-1)]: Done 120 out of 120 | elapsed:    1.9s finished\n"
          ],
          "name": "stderr"
        }
      ]
    },
    {
      "cell_type": "code",
      "metadata": {
        "id": "To0dBXnKvyju",
        "colab_type": "code",
        "colab": {
          "base_uri": "https://localhost:8080/",
          "height": 51
        },
        "outputId": "1299da0b-4268-48d2-a40a-3e8b05f7502e"
      },
      "source": [
        "print(grid_result.best_score_)\n",
        "print(grid_result.best_params_)"
      ],
      "execution_count": 33,
      "outputs": [
        {
          "output_type": "stream",
          "text": [
            "0.6666666666666666\n",
            "{'C': 0.01, 'class_weight': {1: 0.6, 0: 0.4}, 'penalty': 'l2', 'solver': 'saga'}\n"
          ],
          "name": "stdout"
        }
      ]
    },
    {
      "cell_type": "code",
      "metadata": {
        "id": "eyp559ZMv0TS",
        "colab_type": "code",
        "colab": {
          "base_uri": "https://localhost:8080/",
          "height": 34
        },
        "outputId": "d820df64-05cd-4af7-bf33-956697c15df2"
      },
      "source": [
        "y_test_pred = grid_result.predict(x_test)\n",
        "from sklearn.metrics import accuracy_score\n",
        "ans = accuracy_score(y_test, y_test_pred)\n",
        "ans*100"
      ],
      "execution_count": 34,
      "outputs": [
        {
          "output_type": "execute_result",
          "data": {
            "text/plain": [
              "70.0"
            ]
          },
          "metadata": {
            "tags": []
          },
          "execution_count": 34
        }
      ]
    },
    {
      "cell_type": "code",
      "metadata": {
        "id": "TpCOvgV5v18s",
        "colab_type": "code",
        "colab": {
          "base_uri": "https://localhost:8080/",
          "height": 68
        },
        "outputId": "eec1186b-4274-4e58-bafb-b69ff723cacb"
      },
      "source": [
        "penalty = ['l1', 'l2']\n",
        "C = [0.0001, 0.001, 0.01]\n",
        "class_weight = [{1:0.5, 0:0.5}, {1:0.6, 0:0.4}]\n",
        "solver = ['liblinear', 'saga'] #\n",
        "\n",
        "paramgrid = dict(penalty=penalty, C=C, class_weight=class_weight, solver=solver)\n",
        "\n",
        "random = RandomizedSearchCV(estimator=logistics, param_distributions=paramgrid, scoring='accuracy', verbose=1, n_jobs=-1)\n",
        "random_result = random.fit(x_train, y_train)"
      ],
      "execution_count": 35,
      "outputs": [
        {
          "output_type": "stream",
          "text": [
            "Fitting 5 folds for each of 10 candidates, totalling 50 fits\n"
          ],
          "name": "stdout"
        },
        {
          "output_type": "stream",
          "text": [
            "[Parallel(n_jobs=-1)]: Using backend LokyBackend with 2 concurrent workers.\n",
            "[Parallel(n_jobs=-1)]: Done  50 out of  50 | elapsed:    0.2s finished\n"
          ],
          "name": "stderr"
        }
      ]
    },
    {
      "cell_type": "code",
      "metadata": {
        "id": "dfWarGEuv3z3",
        "colab_type": "code",
        "colab": {
          "base_uri": "https://localhost:8080/",
          "height": 51
        },
        "outputId": "6fccc9f1-2523-467f-9494-18bb41cf3e55"
      },
      "source": [
        "print(random_result.best_score_)\n",
        "print(random_result.best_params_)"
      ],
      "execution_count": 36,
      "outputs": [
        {
          "output_type": "stream",
          "text": [
            "0.6583333333333333\n",
            "{'solver': 'liblinear', 'penalty': 'l2', 'class_weight': {1: 0.6, 0: 0.4}, 'C': 0.01}\n"
          ],
          "name": "stdout"
        }
      ]
    },
    {
      "cell_type": "code",
      "metadata": {
        "id": "2UkXhMCVv5Li",
        "colab_type": "code",
        "colab": {
          "base_uri": "https://localhost:8080/",
          "height": 34
        },
        "outputId": "6a9fba64-e5b9-4fb7-c038-8dc7b0bc427c"
      },
      "source": [
        "y_test_pred2 = random_result.predict(x_test)\n",
        "ans2 = accuracy_score(y_test, y_test_pred2)\n",
        "ans2*100"
      ],
      "execution_count": 37,
      "outputs": [
        {
          "output_type": "execute_result",
          "data": {
            "text/plain": [
              "70.0"
            ]
          },
          "metadata": {
            "tags": []
          },
          "execution_count": 37
        }
      ]
    }
  ]
}